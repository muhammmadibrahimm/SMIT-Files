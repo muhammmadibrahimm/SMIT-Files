{
 "cells": [
  {
   "cell_type": "markdown",
   "id": "179769e9-600a-41b5-8bf0-efdfcd258796",
   "metadata": {},
   "source": [
    "# While Loop\n",
    "#### while loop in Python — the ride-or-die loop when you don’t know how many times something needs to repeat, but you do know the condition. "
   ]
  },
  {
   "cell_type": "code",
   "execution_count": null,
   "id": "fbeb3371-d165-4101-bbad-584d990b32a7",
   "metadata": {},
   "outputs": [],
   "source": [
    "x = 0\n",
    "while x < 5:\n",
    "    print(x)\n",
    "    x += 1\n"
   ]
  },
  {
   "cell_type": "code",
   "execution_count": 7,
   "id": "02c5d52d-0e3d-474b-bb96-9adc677218c6",
   "metadata": {},
   "outputs": [
    {
     "name": "stdout",
     "output_type": "stream",
     "text": [
      "0 HELLO\n",
      "1 HELLO\n",
      "2 HELLO\n",
      "3 HELLO\n",
      "4 HELLO\n",
      "5 HELLO\n",
      "6 HELLO\n",
      "7 HELLO\n",
      "8 HELLO\n",
      "9 HELLO\n"
     ]
    }
   ],
   "source": [
    "a = 0\n",
    "while a<10:\n",
    "    print(a,\"HELLO\")\n",
    "    a += 1"
   ]
  },
  {
   "cell_type": "code",
   "execution_count": 11,
   "id": "9d7a7085-da7b-49d9-9914-7f1a97cd3d58",
   "metadata": {},
   "outputs": [
    {
     "name": "stdout",
     "output_type": "stream",
     "text": [
      "100 HELLO\n",
      "91 HELLO\n",
      "82 HELLO\n",
      "73 HELLO\n",
      "64 HELLO\n",
      "55 HELLO\n",
      "46 HELLO\n",
      "37 HELLO\n",
      "28 HELLO\n",
      "19 HELLO\n",
      "10 HELLO\n",
      "1 HELLO\n"
     ]
    }
   ],
   "source": [
    "# running loop in reverse order\n",
    "a = 100\n",
    "while a>0:\n",
    "    print(a,\"HELLO\")\n",
    "    a -= 9"
   ]
  },
  {
   "cell_type": "code",
   "execution_count": 13,
   "id": "fce248df-c77b-4a70-ac41-6633ab0d1f50",
   "metadata": {},
   "outputs": [],
   "source": [
    "age = 100"
   ]
  },
  {
   "cell_type": "code",
   "execution_count": 15,
   "id": "feda315a-d700-47da-a2d9-e505d1541c75",
   "metadata": {},
   "outputs": [
    {
     "data": {
      "text/plain": [
       "100"
      ]
     },
     "execution_count": 15,
     "metadata": {},
     "output_type": "execute_result"
    }
   ],
   "source": [
    "age"
   ]
  },
  {
   "cell_type": "code",
   "execution_count": 17,
   "id": "6c284ae9-f23b-4e58-9bfc-8c28c6b150ec",
   "metadata": {},
   "outputs": [
    {
     "data": {
      "text/plain": [
       "110"
      ]
     },
     "execution_count": 17,
     "metadata": {},
     "output_type": "execute_result"
    }
   ],
   "source": [
    "age + 10"
   ]
  },
  {
   "cell_type": "code",
   "execution_count": 19,
   "id": "7319902b-135f-4bd5-9786-b63d884fd5f9",
   "metadata": {},
   "outputs": [
    {
     "data": {
      "text/plain": [
       "100"
      ]
     },
     "execution_count": 19,
     "metadata": {},
     "output_type": "execute_result"
    }
   ],
   "source": [
    "age"
   ]
  },
  {
   "cell_type": "code",
   "execution_count": 21,
   "id": "6b503db5-1416-447e-bc9d-ead5a2faa980",
   "metadata": {},
   "outputs": [],
   "source": [
    "age = age + 10"
   ]
  },
  {
   "cell_type": "code",
   "execution_count": 23,
   "id": "99332f38-2d75-4888-ad0c-97f044549b4d",
   "metadata": {},
   "outputs": [
    {
     "data": {
      "text/plain": [
       "110"
      ]
     },
     "execution_count": 23,
     "metadata": {},
     "output_type": "execute_result"
    }
   ],
   "source": [
    "age"
   ]
  },
  {
   "cell_type": "code",
   "execution_count": 25,
   "id": "52c655d8-f01e-4480-b593-39624a866d81",
   "metadata": {},
   "outputs": [],
   "source": [
    "# this is also the same thing as i do above\n",
    "age+=10"
   ]
  },
  {
   "cell_type": "code",
   "execution_count": 27,
   "id": "19614607-91fe-42f1-9fd6-5fd5b04d7f71",
   "metadata": {},
   "outputs": [
    {
     "data": {
      "text/plain": [
       "120"
      ]
     },
     "execution_count": 27,
     "metadata": {},
     "output_type": "execute_result"
    }
   ],
   "source": [
    "age"
   ]
  },
  {
   "cell_type": "code",
   "execution_count": 2,
   "id": "05fcdf2e-6a66-4d54-b1af-72ea333d8524",
   "metadata": {},
   "outputs": [
    {
     "name": "stdin",
     "output_type": "stream",
     "text": [
      "ENTER YOUR NAME: quit\n",
      "ENTER YOUR NAME: exit\n",
      "ENTER YOUR NAME: enter\n",
      "ENTER YOUR NAME: space\n",
      "ENTER YOUR NAME: bob\n",
      "ENTER YOUR NAME: alex\n",
      "ENTER YOUR NAME: john\n"
     ]
    },
    {
     "data": {
      "text/plain": [
       "['quit', 'exit', 'enter', 'space', 'bob', 'alex', 'john']"
      ]
     },
     "execution_count": 2,
     "metadata": {},
     "output_type": "execute_result"
    }
   ],
   "source": [
    "# this will print only till there when ranfe range is full fil\n",
    "guests = []\n",
    "for i in range(7):\n",
    "    name = input(\"ENTER YOUR NAME:\")\n",
    "    guests.append(name)\n",
    "guests"
   ]
  },
  {
   "cell_type": "code",
   "execution_count": 43,
   "id": "c7b2a8e6-0944-4285-8f5c-f78ef818ac55",
   "metadata": {},
   "outputs": [
    {
     "name": "stdin",
     "output_type": "stream",
     "text": [
      "Enter your Name: dvdv\n",
      "Enter your Name: v\n",
      "Enter your Name: v\n",
      "Enter your Name: xcv\n",
      "Enter your Name: xcvxcx\n",
      "Enter your Name: vxcv\n",
      "Enter your Name: xc\n",
      "Enter your Name: vxc\n",
      "Enter your Name: quit\n"
     ]
    },
    {
     "data": {
      "text/plain": [
       "['dvdv', 'v', 'v', 'xcv', 'xcvxcx', 'vxcv', 'xc', 'vxc']"
      ]
     },
     "execution_count": 43,
     "metadata": {},
     "output_type": "execute_result"
    }
   ],
   "source": [
    "# this loop will go through until i put name of quit\n",
    "guests = []\n",
    "while True:\n",
    "    name = input(\"Enter your Name:\")\n",
    "    if name == \"quit\":\n",
    "        break\n",
    "    guests.append(name)\n",
    "guests"
   ]
  },
  {
   "cell_type": "code",
   "execution_count": 57,
   "id": "92cdb046-4677-403b-9331-317d17280d5f",
   "metadata": {},
   "outputs": [
    {
     "name": "stdin",
     "output_type": "stream",
     "text": [
      "Enter your Name: dvds\n",
      "Enter your Name: ds\n",
      "Enter your Name: ds\n",
      "Enter your Name: cd\n",
      "Enter your Name: cds\n"
     ]
    },
    {
     "data": {
      "text/plain": [
       "['dvds', 'ds', 'ds', 'cd', 'cds']"
      ]
     },
     "execution_count": 57,
     "metadata": {},
     "output_type": "execute_result"
    }
   ],
   "source": [
    "# while loop initials\n",
    "guests = []\n",
    "count = 0\n",
    "while count < 5:\n",
    "    name = input(\"Enter your Name:\")\n",
    "    if name == \"quit\":\n",
    "        break\n",
    "    guests.append(name)\n",
    "    count+=1\n",
    "guests"
   ]
  },
  {
   "cell_type": "raw",
   "id": "9d16ea58-169a-401a-8e66-71d8c02384fb",
   "metadata": {},
   "source": [
    "Think of at least three kinds of your favorite pizza . Store these \n",
    "pizza names in a list, and then use a for loop to print the name of each pizza .\n",
    " •\tModify your for loop to print a sentence using the name of the pizza \n",
    "instead of printing just the name of the pizza . For each pizza you should \n",
    "have one line of output containing a simple statement like I like pepperoni \n",
    "pizza .\n",
    " •\tAdd a line at the end of your program, outside the for loop, that states \n",
    "how much you like pizza . The output should consist of three or more lines \n",
    "about the kinds of pizza you like and then an additional sentence, such as \n",
    "I really love pizza!"
   ]
  },
  {
   "cell_type": "code",
   "execution_count": 53,
   "id": "de8d3539-5851-4b8f-9424-f2bb5521cfdd",
   "metadata": {},
   "outputs": [
    {
     "name": "stdout",
     "output_type": "stream",
     "text": [
      "I Like Pepproni Pizza \n",
      "I Like Fajeeta Pizza \n",
      "I Like Tikka Pizza \n",
      "i really love pizza\n"
     ]
    }
   ],
   "source": [
    "pizza = [\"Pepproni\", \"Fajeeta\", \"Tikka\"]\n",
    "for i in pizza:\n",
    "    print(f\"I Like {i} Pizza \")\n",
    "print(\"i really love pizza\")\n"
   ]
  },
  {
   "cell_type": "code",
   "execution_count": 62,
   "id": "1855edbb-88c3-43f1-bd90-7202406ad06f",
   "metadata": {},
   "outputs": [
    {
     "name": "stdout",
     "output_type": "stream",
     "text": [
      "3\n",
      "6\n",
      "9\n",
      "12\n",
      "15\n",
      "18\n",
      "21\n",
      "24\n",
      "27\n",
      "30\n"
     ]
    }
   ],
   "source": [
    "for a in list(range(3, 31, 3)):\n",
    "    print(a)"
   ]
  },
  {
   "cell_type": "code",
   "execution_count": 64,
   "id": "ff3b5feb-dc5c-4642-97e9-7a31732a5a05",
   "metadata": {},
   "outputs": [
    {
     "data": {
      "text/plain": [
       "[1, 8, 27, 64, 125, 216, 343, 512, 729, 1000]"
      ]
     },
     "execution_count": 64,
     "metadata": {},
     "output_type": "execute_result"
    }
   ],
   "source": [
    "cubes = []\n",
    "for i in range(1,11):\n",
    "    cubes.append(i**3)\n",
    "cubes"
   ]
  },
  {
   "cell_type": "code",
   "execution_count": 66,
   "id": "715aaa76-7d66-48a1-b9d8-ad36c40ad5d2",
   "metadata": {},
   "outputs": [
    {
     "name": "stdout",
     "output_type": "stream",
     "text": [
      "- biryani\n",
      "- pizza\n",
      "- tatti\n",
      "- paad\n",
      "- paad ka korma\n"
     ]
    }
   ],
   "source": [
    "foods = ('biryani', 'pizza', 'tatti', 'paad', 'paad ka korma')\n",
    "for f in foods:\n",
    "    print(f\"- {f}\")"
   ]
  },
  {
   "cell_type": "code",
   "execution_count": 18,
   "id": "903653a1-4830-4217-b3a0-2792da9d676b",
   "metadata": {},
   "outputs": [
    {
     "name": "stdout",
     "output_type": "stream",
     "text": [
      "0\n",
      "1\n",
      "2\n"
     ]
    },
    {
     "data": {
      "text/plain": [
       "3"
      ]
     },
     "execution_count": 18,
     "metadata": {},
     "output_type": "execute_result"
    }
   ],
   "source": [
    "i = 0\n",
    "while (i < 3):\n",
    "    print(i)\n",
    "    i+=1\n",
    "i"
   ]
  },
  {
   "cell_type": "code",
   "execution_count": 20,
   "id": "094a2f7c-0aa7-47ab-8a70-5e447be7508b",
   "metadata": {},
   "outputs": [
    {
     "name": "stdout",
     "output_type": "stream",
     "text": [
      "0\n",
      "1\n",
      "2\n"
     ]
    }
   ],
   "source": [
    "for i in range(3):\n",
    "    print(i)"
   ]
  },
  {
   "cell_type": "code",
   "execution_count": 26,
   "id": "0fb0fb58-3ff3-4fa1-8926-4fd6a39430d6",
   "metadata": {},
   "outputs": [
    {
     "name": "stdin",
     "output_type": "stream",
     "text": [
      "ENTER YOUR NUMBER: 30\n"
     ]
    },
    {
     "name": "stdout",
     "output_type": "stream",
     "text": [
      "30\n"
     ]
    },
    {
     "name": "stdin",
     "output_type": "stream",
     "text": [
      "ENTER YOUR NUMBER: 31\n"
     ]
    },
    {
     "name": "stdout",
     "output_type": "stream",
     "text": [
      "31\n"
     ]
    }
   ],
   "source": [
    "i = 0 \n",
    "while (i<=30):\n",
    "    i = int(input(\"ENTER YOUR NUMBER:\"))\n",
    "    print(i)"
   ]
  },
  {
   "cell_type": "code",
   "execution_count": 32,
   "id": "787e5794-ec71-4d93-a86e-893e202b5e4d",
   "metadata": {},
   "outputs": [
    {
     "name": "stdout",
     "output_type": "stream",
     "text": [
      "10\n",
      "9\n",
      "8\n",
      "7\n",
      "6\n",
      "5\n",
      "4\n",
      "3\n",
      "2\n",
      "1\n"
     ]
    },
    {
     "data": {
      "text/plain": [
       "0"
      ]
     },
     "execution_count": 32,
     "metadata": {},
     "output_type": "execute_result"
    }
   ],
   "source": [
    "count = 10\n",
    "while (count > 0):\n",
    "    print(count)\n",
    "    count-=1\n",
    "count\n"
   ]
  },
  {
   "cell_type": "code",
   "execution_count": null,
   "id": "35945a6e-9657-41e3-8bae-8b9d66afa942",
   "metadata": {},
   "outputs": [],
   "source": []
  }
 ],
 "metadata": {
  "kernelspec": {
   "display_name": "Python [conda env:base] *",
   "language": "python",
   "name": "conda-base-py"
  },
  "language_info": {
   "codemirror_mode": {
    "name": "ipython",
    "version": 3
   },
   "file_extension": ".py",
   "mimetype": "text/x-python",
   "name": "python",
   "nbconvert_exporter": "python",
   "pygments_lexer": "ipython3",
   "version": "3.12.7"
  }
 },
 "nbformat": 4,
 "nbformat_minor": 5
}
