{
 "cells": [
  {
   "cell_type": "markdown",
   "id": "10ae5a9c-39b3-47a7-809a-4cdef787af95",
   "metadata": {},
   "source": [
    "# Inheritance:\n",
    "    "
   ]
  },
  {
   "cell_type": "markdown",
   "id": "26fa8582-af60-420c-b8c9-3ba3c3599696",
   "metadata": {},
   "source": [
    "if class A inherits B,then class B is called parent class and class A is called child class\n"
   ]
  },
  {
   "cell_type": "markdown",
   "id": "da093926-8007-4e82-b6c1-f4c5fbe5d7a1",
   "metadata": {},
   "source": [
    "the child class will have access to every thing of parent"
   ]
  },
  {
   "cell_type": "code",
   "execution_count": 18,
   "id": "797c56d6-6a15-4926-9acc-31ddcdd7c3c9",
   "metadata": {},
   "outputs": [],
   "source": [
    "class Car():\n",
    "    def __init__(self, make, model, year):\n",
    "        self.make = make\n",
    "        self.model = model\n",
    "        self.year = year\n",
    "        self.odometer_reading = 0\n",
    "    def get_descriptive_name(self):\n",
    "        long_name = str(self.year) + ' ' + self.make + ' ' + self.model\n",
    "        return long_name.title()\n",
    "    def read_odometer(self):\n",
    "        print(\"This car has \" + str(self.odometer_reading) + \" miles on it.\")\n",
    "    def update_odometer(self, mileage):\n",
    "        if mileage >= self.odometer_reading:\n",
    "            self.odometer_reading = mileage\n",
    "        else:\n",
    "            print(\"You can't roll back an odometer!\")\n",
    "    def increment_odometer(self, miles):\n",
    "        self.odometer_reading += miles"
   ]
  },
  {
   "cell_type": "code",
   "execution_count": 24,
   "id": "1a7c0500-27c1-42c5-9989-9fab148a0ff4",
   "metadata": {},
   "outputs": [
    {
     "ename": "NameError",
     "evalue": "name 'ElectricCar' is not defined",
     "output_type": "error",
     "traceback": [
      "\u001b[1;31m---------------------------------------------------------------------------\u001b[0m",
      "\u001b[1;31mNameError\u001b[0m                                 Traceback (most recent call last)",
      "Cell \u001b[1;32mIn[24], line 1\u001b[0m\n\u001b[1;32m----> 1\u001b[0m ec1 \u001b[38;5;241m=\u001b[39m ElectricCar(make, model, year)\n",
      "\u001b[1;31mNameError\u001b[0m: name 'ElectricCar' is not defined"
     ]
    }
   ],
   "source": [
    "ec1 = ElectricCar(make, model, year)\n"
   ]
  },
  {
   "cell_type": "code",
   "execution_count": null,
   "id": "2bbb46a0-2b2f-4703-a19c-52e8cc933084",
   "metadata": {},
   "outputs": [],
   "source": [
    "ec1"
   ]
  }
 ],
 "metadata": {
  "kernelspec": {
   "display_name": "Python [conda env:base] *",
   "language": "python",
   "name": "conda-base-py"
  },
  "language_info": {
   "codemirror_mode": {
    "name": "ipython",
    "version": 3
   },
   "file_extension": ".py",
   "mimetype": "text/x-python",
   "name": "python",
   "nbconvert_exporter": "python",
   "pygments_lexer": "ipython3",
   "version": "3.12.7"
  }
 },
 "nbformat": 4,
 "nbformat_minor": 5
}
