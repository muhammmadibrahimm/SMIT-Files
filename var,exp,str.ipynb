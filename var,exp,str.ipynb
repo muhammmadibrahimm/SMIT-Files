{
 "cells": [
  {
   "cell_type": "markdown",
   "id": "ed4dabc0-dbe2-425d-8594-46fd0b6917bb",
   "metadata": {},
   "source": [
    "# variables\n"
   ]
  },
  {
   "cell_type": "code",
   "execution_count": 5,
   "id": "6b12f1f2-fc3d-4e1b-b3ec-e0a8a51cefa7",
   "metadata": {},
   "outputs": [
    {
     "name": "stdout",
     "output_type": "stream",
     "text": [
      "20\n"
     ]
    }
   ],
   "source": [
    "age = 20\n",
    "print(age)"
   ]
  },
  {
   "cell_type": "code",
   "execution_count": 10,
   "id": "c87e4b11-e9c2-4ba0-afd3-27fb1a55f5bf",
   "metadata": {},
   "outputs": [
    {
     "name": "stdout",
     "output_type": "stream",
     "text": [
      "bobzie\n"
     ]
    }
   ],
   "source": [
    "name = \"bobzie\"\n",
    "print(name)"
   ]
  },
  {
   "cell_type": "code",
   "execution_count": 12,
   "id": "4b79992a-b3ce-462d-a372-e1692b6a0f79",
   "metadata": {},
   "outputs": [
    {
     "data": {
      "text/plain": [
       "str"
      ]
     },
     "execution_count": 12,
     "metadata": {},
     "output_type": "execute_result"
    }
   ],
   "source": [
    "type(name)"
   ]
  },
  {
   "cell_type": "code",
   "execution_count": 18,
   "id": "e706f625-6b39-4f5b-a60d-ee010f3b7f6b",
   "metadata": {},
   "outputs": [
    {
     "data": {
      "text/plain": [
       "int"
      ]
     },
     "execution_count": 18,
     "metadata": {},
     "output_type": "execute_result"
    }
   ],
   "source": [
    "type(age)"
   ]
  },
  {
   "cell_type": "markdown",
   "id": "f68615b6-08bd-48a9-a963-550042c2b4f9",
   "metadata": {},
   "source": [
    "# string\n",
    "\n",
    "\n"
   ]
  },
  {
   "cell_type": "code",
   "execution_count": 42,
   "id": "ab366a91-fe87-4b01-9a60-246fdff3ba03",
   "metadata": {},
   "outputs": [],
   "source": [
    "text = \"mustafa is mad\""
   ]
  },
  {
   "cell_type": "code",
   "execution_count": 44,
   "id": "d3ffaf47-995d-40b2-9182-ad2358ad572f",
   "metadata": {},
   "outputs": [
    {
     "name": "stdout",
     "output_type": "stream",
     "text": [
      "<class 'str'>\n"
     ]
    }
   ],
   "source": [
    "print(type(text))"
   ]
  },
  {
   "cell_type": "code",
   "execution_count": 63,
   "id": "3178b73e-296d-4d55-b4b9-32152077829a",
   "metadata": {},
   "outputs": [
    {
     "data": {
      "text/plain": [
       "'Mustafa is mad'"
      ]
     },
     "execution_count": 63,
     "metadata": {},
     "output_type": "execute_result"
    }
   ],
   "source": [
    "text.capitalize()\n"
   ]
  },
  {
   "cell_type": "markdown",
   "id": "b8d7eb08-395e-42c9-8b10-c5a0c2497273",
   "metadata": {},
   "source": [
    "#### string is immutable (it can not be change after execution)"
   ]
  },
  {
   "cell_type": "code",
   "execution_count": 74,
   "id": "46b2c9e0-d924-45a9-9384-27b4c6eb52d3",
   "metadata": {},
   "outputs": [],
   "source": [
    "name = \"Shakeel Ahmed\""
   ]
  },
  {
   "cell_type": "code",
   "execution_count": 78,
   "id": "6520e94f-f113-43ea-89af-66676ea97512",
   "metadata": {},
   "outputs": [
    {
     "name": "stdout",
     "output_type": "stream",
     "text": [
      "<class 'str'>\n"
     ]
    }
   ],
   "source": [
    "print(type(name))"
   ]
  },
  {
   "cell_type": "code",
   "execution_count": 84,
   "id": "fcb9f3c2-d0a7-4743-a43d-affeb42e3d18",
   "metadata": {},
   "outputs": [
    {
     "data": {
      "text/plain": [
       "13"
      ]
     },
     "execution_count": 84,
     "metadata": {},
     "output_type": "execute_result"
    }
   ],
   "source": [
    "len(name)"
   ]
  },
  {
   "cell_type": "code",
   "execution_count": 86,
   "id": "cbc46ace-0b8e-4a97-82eb-1bb7ba1d84f1",
   "metadata": {},
   "outputs": [
    {
     "data": {
      "text/plain": [
       "'Zhakeel Ahmed'"
      ]
     },
     "execution_count": 86,
     "metadata": {},
     "output_type": "execute_result"
    }
   ],
   "source": [
    "name.replace(\"S\", \"Z\")"
   ]
  },
  {
   "cell_type": "code",
   "execution_count": 102,
   "id": "3f90e686-353e-44a9-8e8e-abaf9314559b",
   "metadata": {},
   "outputs": [
    {
     "name": "stdin",
     "output_type": "stream",
     "text": [
      "Enter Your Name: ibrahim\n",
      "Enter your Age: 20\n",
      "Enter your City: karachi\n"
     ]
    },
    {
     "name": "stdout",
     "output_type": "stream",
     "text": [
      "his name isibrahimhis age is20.0he lives in karachiin Pakistan\n"
     ]
    }
   ],
   "source": [
    "name = input(\"Enter Your Name:\")\n",
    "age = float(input(\"Enter your Age:\"))\n",
    "city = input(\"Enter your City:\")\n",
    "print(\"his name is\" +name + \"his age is\" + str(age) + \"he lives in \" + city+ \"in Pakistan\")\n"
   ]
  },
  {
   "cell_type": "markdown",
   "id": "3a4c9933-d292-4e35-908c-45e40ecff4e1",
   "metadata": {},
   "source": [
    "# f-String"
   ]
  },
  {
   "cell_type": "code",
   "execution_count": 113,
   "id": "ed12bc76-384e-4513-b739-c241644546f2",
   "metadata": {},
   "outputs": [
    {
     "name": "stdin",
     "output_type": "stream",
     "text": [
      "Enter Your Name: bobzie\n",
      "Enter your Age: 31\n",
      "Enter your City: lahore\n"
     ]
    },
    {
     "name": "stdout",
     "output_type": "stream",
     "text": [
      "his name is bobzie, his age is  31.0,  he lives in  lahore in Pakistan\n"
     ]
    }
   ],
   "source": [
    "name = input(\"Enter Your Name:\")\n",
    "age = float(input(\"Enter your Age:\"))\n",
    "city = input(\"Enter your City:\")\n",
    "print(f\"his name is {name}, his age is  {age},  he lives in {city} in Pakistan\")"
   ]
  },
  {
   "cell_type": "code",
   "execution_count": null,
   "id": "4138c2c9-e55a-4694-9f45-55cef4fde921",
   "metadata": {},
   "outputs": [],
   "source": []
  }
 ],
 "metadata": {
  "kernelspec": {
   "display_name": "Python [conda env:base] *",
   "language": "python",
   "name": "conda-base-py"
  },
  "language_info": {
   "codemirror_mode": {
    "name": "ipython",
    "version": 3
   },
   "file_extension": ".py",
   "mimetype": "text/x-python",
   "name": "python",
   "nbconvert_exporter": "python",
   "pygments_lexer": "ipython3",
   "version": "3.12.7"
  }
 },
 "nbformat": 4,
 "nbformat_minor": 5
}
