{
 "cells": [
  {
   "cell_type": "markdown",
   "id": "bba9266d-ee87-4d7a-ac3d-fe2b2369e314",
   "metadata": {},
   "source": [
    "# LOOPS\n",
    "##### In Python, a loop is just a way to repeat a block of code multiple times without writing it again and again. Like saying, “Do this thing... 10 times,” and Python says, “Bet.”\n",
    "#### for in\n",
    "#### while\n"
   ]
  },
  {
   "cell_type": "markdown",
   "id": "96f7cf40-e89e-49b9-893c-d02c85a8b64b",
   "metadata": {},
   "source": [
    "# For in Loop"
   ]
  },
  {
   "cell_type": "code",
   "execution_count": 5,
   "id": "ee614d3a-c837-4808-96ce-8f940f0bdc2e",
   "metadata": {},
   "outputs": [
    {
     "name": "stdout",
     "output_type": "stream",
     "text": [
      "ibrahim 0\n",
      "ibrahim 1\n",
      "ibrahim 2\n",
      "ibrahim 3\n",
      "ibrahim 4\n",
      "ibrahim 5\n",
      "ibrahim 6\n"
     ]
    }
   ],
   "source": [
    "# print your name 10 times#\n",
    "#  i = variable, range = iterable\n",
    "for i in range(7):\n",
    "      print(\"ibrahim\", i)\n"
   ]
  },
  {
   "cell_type": "code",
   "execution_count": 7,
   "id": "87e129fd-d966-4aa7-bcef-4a9f92601259",
   "metadata": {},
   "outputs": [
    {
     "name": "stdout",
     "output_type": "stream",
     "text": [
      "hi ['bobby', 'cheeku', 'thala']\n",
      "hi ['bobby', 'cheeku', 'thala']\n",
      "hi ['bobby', 'cheeku', 'thala']\n"
     ]
    }
   ],
   "source": [
    "friends = [\"bobby\", \"cheeku\", \"thala\"]\n",
    "for i in friends:\n",
    "    print(f\"hi {friends}\")"
   ]
  },
  {
   "cell_type": "code",
   "execution_count": 9,
   "id": "35da2cfb-c710-4177-b739-283988c349ba",
   "metadata": {},
   "outputs": [
    {
     "name": "stdout",
     "output_type": "stream",
     "text": [
      "hi bobby\n",
      "hi cheeku\n",
      "hi thala\n"
     ]
    }
   ],
   "source": [
    "friends = [\"bobby\", \"cheeku\", \"thala\"]\n",
    "for i in friends:\n",
    "    print(f\"hi {i}\")"
   ]
  },
  {
   "cell_type": "code",
   "execution_count": 11,
   "id": "fd8f0c77-1996-4602-b5ef-3c42072bef8e",
   "metadata": {},
   "outputs": [
    {
     "name": "stdout",
     "output_type": "stream",
     "text": [
      "[3]\n",
      "[3, 7]\n",
      "[3, 7, 11]\n",
      "[3, 7, 11, 15]\n",
      "[3, 7, 11, 15, 19]\n"
     ]
    }
   ],
   "source": [
    "lst1 = [1,3,5,7,9]\n",
    "lst2 = [2,4,6,8,10]\n",
    "lst3 = []\n",
    "for n in zip(lst1,lst2):\n",
    "    lst3.append(sum(n))\n",
    "    print(lst3)"
   ]
  },
  {
   "cell_type": "code",
   "execution_count": 13,
   "id": "f0e07cc5-cb27-4bed-b137-930fcdf0eb34",
   "metadata": {},
   "outputs": [
    {
     "name": "stdout",
     "output_type": "stream",
     "text": [
      "hello bobby\n",
      "hello cheeku\n",
      "hello thala\n",
      "hello rizzu\n",
      "hello mogambo\n",
      "hello gable\n",
      "hello caesar\n"
     ]
    }
   ],
   "source": [
    "friends = [\"bobby\", \"cheeku\", \"thala\", \"rizzu\", \"mogambo\", \"gable\", \"caesar\"]\n",
    "for f in friends:\n",
    "    print(f\"hello {f}\" )"
   ]
  },
  {
   "cell_type": "code",
   "execution_count": 8,
   "id": "63ae1632-8fd9-48a7-b399-e1a5104a33b6",
   "metadata": {},
   "outputs": [
    {
     "name": "stdout",
     "output_type": "stream",
     "text": [
      "0 bobby\n",
      "1 cheeku\n",
      "2 thala\n",
      "3 rizzu\n",
      "4 mogambo\n",
      "5 gable\n",
      "6 caesar\n"
     ]
    }
   ],
   "source": [
    "friends = [\"bobby\", \"cheeku\", \"thala\", \"rizzu\", \"mogambo\", \"gable\", \"caesar\"]\n",
    "for f in range(7):\n",
    "    print(f, friends[f])"
   ]
  },
  {
   "cell_type": "code",
   "execution_count": 17,
   "id": "d63caf4a-302b-48af-bb19-d3fede0db6bc",
   "metadata": {},
   "outputs": [
    {
     "name": "stdout",
     "output_type": "stream",
     "text": [
      "caesar\n",
      "gable\n",
      "mogambo\n",
      "rizzu\n",
      "thala\n",
      "cheeku\n",
      "bobby\n"
     ]
    }
   ],
   "source": [
    "# to print the list items in reverse order\n",
    "for f in friends[::-1]:\n",
    "    print(f)"
   ]
  },
  {
   "cell_type": "code",
   "execution_count": 19,
   "id": "d5affb10-92fe-423f-932f-a1c333f3ebba",
   "metadata": {},
   "outputs": [
    {
     "name": "stdout",
     "output_type": "stream",
     "text": [
      "0 caesar\n",
      "1 gable\n",
      "2 mogambo\n",
      "3 rizzu\n",
      "4 thala\n",
      "5 cheeku\n",
      "6 bobby\n"
     ]
    }
   ],
   "source": [
    "friends = [\"bobby\", \"cheeku\", \"thala\", \"rizzu\", \"mogambo\", \"gable\", \"caesar\"]\n",
    "for n,s in enumerate(friends[::-1]):\n",
    "    print(n,s)"
   ]
  },
  {
   "cell_type": "markdown",
   "id": "6cdaf61e-26b7-44e7-8651-b9900ad93c89",
   "metadata": {},
   "source": [
    "# Continue, Break"
   ]
  },
  {
   "cell_type": "code",
   "execution_count": 22,
   "id": "b63d117a-2eb1-47b7-ade6-8a0cfbe82e8a",
   "metadata": {},
   "outputs": [
    {
     "data": {
      "text/plain": [
       "['bobby', 'cheeku', 'thala', 'rizzu', 'mogambo', 'gable', 'caesar']"
      ]
     },
     "execution_count": 22,
     "metadata": {},
     "output_type": "execute_result"
    }
   ],
   "source": [
    "friends"
   ]
  },
  {
   "cell_type": "code",
   "execution_count": 24,
   "id": "50abd8ab-1d8f-4897-a38f-6f67cc2a8d8d",
   "metadata": {},
   "outputs": [
    {
     "name": "stdout",
     "output_type": "stream",
     "text": [
      "dear bobby, aapki kl chutti hai\n",
      "dear cheeku, aapki kl chutti hai\n",
      "dear thala, aapki kl chutti hai\n",
      "dear rizzu, aapki kl chutti hai\n",
      "dear mogambo, aapki kl chutti hai\n",
      "dear gable, aapki kl chutti hai\n",
      "dear caesar, aapki kl chutti hai\n"
     ]
    }
   ],
   "source": [
    "for f in friends:\n",
    "    print(f\"dear {f}, aapki kl chutti hai\")"
   ]
  },
  {
   "cell_type": "code",
   "execution_count": 26,
   "id": "0c61b2bf-251e-4c3a-a0cb-d68ac90344a3",
   "metadata": {},
   "outputs": [
    {
     "name": "stdout",
     "output_type": "stream",
     "text": [
      "dear bobby, aapki kl chutti hai\n",
      "dear cheeku, aapki kl chutti nahi hai\n",
      "dear thala, aapki kl chutti hai\n",
      "dear rizzu, aapki kl chutti hai\n",
      "dear mogambo, aapki kl chutti nahi hai\n",
      "dear gable, aapki kl chutti hai\n",
      "dear caesar, aapki kl chutti nahi hai\n"
     ]
    }
   ],
   "source": [
    "for f in friends:\n",
    "    if len(f) < 6:\n",
    "        print(f\"dear {f}, aapki kl chutti hai\")\n",
    "    else:\n",
    "        print(f\"dear {f}, aapki kl chutti nahi hai\")"
   ]
  },
  {
   "cell_type": "code",
   "execution_count": 28,
   "id": "e8fffdce-b903-4470-8490-7414ad5d5c37",
   "metadata": {},
   "outputs": [
    {
     "data": {
      "text/plain": [
       "['bobby', 'cheeku', 'thala', 'rizzu', 'mogambo', 'gable', 'caesar']"
      ]
     },
     "execution_count": 28,
     "metadata": {},
     "output_type": "execute_result"
    }
   ],
   "source": [
    "friends"
   ]
  },
  {
   "cell_type": "code",
   "execution_count": 30,
   "id": "9c597fb6-7978-4753-9baa-517742fe4ae7",
   "metadata": {},
   "outputs": [
    {
     "name": "stdout",
     "output_type": "stream",
     "text": [
      "bobby\n",
      "cheeku\n",
      "thala\n"
     ]
    }
   ],
   "source": [
    "for f in friends:\n",
    "    if f == \"rizzu\":\n",
    "        break\n",
    "    else:\n",
    "        print(f)"
   ]
  },
  {
   "cell_type": "code",
   "execution_count": 33,
   "id": "c810118d-faa8-4184-b4a1-57d6658ca849",
   "metadata": {},
   "outputs": [
    {
     "name": "stdin",
     "output_type": "stream",
     "text": [
      "ENTER YOUR NAME: Ibrahim\n"
     ]
    }
   ],
   "source": [
    "guests = []\n",
    "name = input(\"ENTER YOUR NAME:\")\n",
    "guests.append(name)"
   ]
  },
  {
   "cell_type": "code",
   "execution_count": 35,
   "id": "a2f5ef92-0167-4313-a6b1-2ab97ca82c6d",
   "metadata": {},
   "outputs": [
    {
     "data": {
      "text/plain": [
       "['Ibrahim']"
      ]
     },
     "execution_count": 35,
     "metadata": {},
     "output_type": "execute_result"
    }
   ],
   "source": [
    "guests"
   ]
  },
  {
   "cell_type": "code",
   "execution_count": 16,
   "id": "f397d2e2-f4e1-4807-99b9-0ddf98e4bfe2",
   "metadata": {},
   "outputs": [
    {
     "name": "stdin",
     "output_type": "stream",
     "text": [
      "ENTER YOUR NAME: ibrahim\n",
      "ENTER YOUR NAME: abdul\n",
      "ENTER YOUR NAME: mustafa\n",
      "ENTER YOUR NAME: bobby\n",
      "ENTER YOUR NAME: lipa\n",
      "ENTER YOUR NAME: hagen\n",
      "ENTER YOUR NAME: tom\n"
     ]
    },
    {
     "data": {
      "text/plain": [
       "['ibrahim', 'abdul', 'mustafa', 'bobby', 'lipa', 'hagen', 'tom']"
      ]
     },
     "execution_count": 16,
     "metadata": {},
     "output_type": "execute_result"
    }
   ],
   "source": [
    "guests = []\n",
    "for i in range(7):\n",
    "    name = input(\"ENTER YOUR NAME:\")\n",
    "    guests.append(name)\n",
    "guests"
   ]
  },
  {
   "cell_type": "code",
   "execution_count": 18,
   "id": "dddfc264-1770-4a33-a8ab-9d544d5d465f",
   "metadata": {},
   "outputs": [
    {
     "name": "stdin",
     "output_type": "stream",
     "text": [
      "ENTER YOUR NAME: bobzie\n"
     ]
    },
    {
     "data": {
      "text/plain": [
       "['bobzie', 'bobzie', 'bobzie', 'bobzie', 'bobzie', 'bobzie', 'bobzie']"
      ]
     },
     "execution_count": 18,
     "metadata": {},
     "output_type": "execute_result"
    }
   ],
   "source": [
    "guests = []\n",
    "name = input(\"ENTER YOUR NAME:\")\n",
    "for i in range(7):\n",
    "    guests.append(name)\n",
    "guests"
   ]
  },
  {
   "cell_type": "code",
   "execution_count": 24,
   "id": "c63b48f9-d50f-414d-87a0-d3b3f351afd5",
   "metadata": {},
   "outputs": [
    {
     "name": "stdout",
     "output_type": "stream",
     "text": [
      "0\n",
      "1\n",
      "2\n",
      "3\n",
      "4\n",
      "6\n",
      "7\n",
      "8\n",
      "9\n"
     ]
    }
   ],
   "source": [
    "# if we have to print all numbers 1 to 10 except five\n",
    "for i in range(10):\n",
    "    if i == 5:\n",
    "        continue\n",
    "    else:\n",
    "        print(i)\n",
    "    "
   ]
  },
  {
   "cell_type": "code",
   "execution_count": 32,
   "id": "75c90324-098f-4460-a609-d22705d60eb2",
   "metadata": {},
   "outputs": [
    {
     "name": "stdin",
     "output_type": "stream",
     "text": [
      "biryani for 20 people 2000\n",
      "fish for 20 people 2300\n",
      "ice cream for 20 people 2100\n",
      "kebab for 20 people 2445\n",
      "steak for 20 people 2323\n"
     ]
    },
    {
     "name": "stdout",
     "output_type": "stream",
     "text": [
      "{'biryani': '2000', 'fish': '2300', 'ice cream': '2100', 'kebab': '2445', 'steak': '2323'}\n"
     ]
    }
   ],
   "source": [
    "# to create dict\n",
    "rates = {}\n",
    "items = ['biryani', 'fish', 'ice cream', 'kebab', 'steak']\n",
    "for i in items:\n",
    "    price = input(f\"{i} for 20 people\")\n",
    "    rates[i] = price\n",
    "print(rates)"
   ]
  },
  {
   "cell_type": "code",
   "execution_count": 42,
   "id": "5617310a-23d6-487a-896f-8661abbea511",
   "metadata": {},
   "outputs": [
    {
     "name": "stdin",
     "output_type": "stream",
     "text": [
      "snacks for one 10\n",
      "copy for one 15\n",
      "biscuits for one 10\n",
      "candy for one 5\n",
      "pencil for one 15\n",
      "grocery for one 2000\n",
      "soap for one 190\n",
      "shampoo for one 430\n",
      "icecream for one 100\n"
     ]
    },
    {
     "name": "stdout",
     "output_type": "stream",
     "text": [
      "{'snacks': 10, 'copy': 15, 'biscuits': 10, 'candy': 5, 'pencil': 15, 'grocery': 2000, 'soap': 190, 'shampoo': 430, 'icecream': 100}\n"
     ]
    },
    {
     "data": {
      "text/plain": [
       "2775"
      ]
     },
     "execution_count": 42,
     "metadata": {},
     "output_type": "execute_result"
    }
   ],
   "source": [
    "# create shop and total all bill\n",
    "genral_shop = ['snacks', 'copy', 'biscuits', 'candy', 'pencil', 'grocery', 'soap', 'shampoo', 'icecream']\n",
    "rates = {}\n",
    "total = 0\n",
    "for p in genral_shop:\n",
    "    price = int(input(f\"{p} for one\"))\n",
    "    rates[p] = price\n",
    "    total +=price\n",
    "print(rates)\n",
    "total"
   ]
  },
  {
   "cell_type": "code",
   "execution_count": 46,
   "id": "f9621432-e977-4dce-aa91-38f53d447192",
   "metadata": {},
   "outputs": [
    {
     "name": "stdin",
     "output_type": "stream",
     "text": [
      "snacks for one 10\n",
      "copy for one 15\n",
      "biscuits for one 10\n",
      "candy for one 5\n",
      "pencil for one 10\n",
      "grocery for one 2000\n",
      "soap for one 190\n",
      "shampoo for one 430\n",
      "icecream for one 100\n"
     ]
    },
    {
     "name": "stdout",
     "output_type": "stream",
     "text": [
      "{'snacks': 10, 'copy': 15, 'biscuits': 10, 'candy': 5, 'pencil': 10, 'grocery': 2000, 'soap': 190, 'shampoo': 430, 'icecream': 100}\n",
      "2770\n"
     ]
    }
   ],
   "source": [
    "# another metod\n",
    "genral_shop = ['snacks', 'copy', 'biscuits', 'candy', 'pencil', 'grocery', 'soap', 'shampoo', 'icecream']\n",
    "rates = {}\n",
    "for p in genral_shop:\n",
    "    price = int(input(f\"{p} for one\"))\n",
    "    rates[p] = price\n",
    "total = sum(rates.values())\n",
    "print(rates)\n",
    "print(total)\n"
   ]
  },
  {
   "cell_type": "code",
   "execution_count": null,
   "id": "44b7243a-f788-40e3-8047-a8829170f674",
   "metadata": {},
   "outputs": [],
   "source": []
  },
  {
   "cell_type": "code",
   "execution_count": null,
   "id": "6237145b-91dd-4876-bd2f-617802804c2a",
   "metadata": {},
   "outputs": [],
   "source": []
  },
  {
   "cell_type": "code",
   "execution_count": null,
   "id": "9f659530-9c8f-438c-b214-62bc483576dc",
   "metadata": {},
   "outputs": [],
   "source": []
  },
  {
   "cell_type": "code",
   "execution_count": null,
   "id": "61ff64c2-9f55-4326-9331-f1c293a44660",
   "metadata": {},
   "outputs": [],
   "source": []
  },
  {
   "cell_type": "code",
   "execution_count": null,
   "id": "2aec7984-19fb-405b-a1c3-22b44027344c",
   "metadata": {},
   "outputs": [],
   "source": []
  }
 ],
 "metadata": {
  "kernelspec": {
   "display_name": "Python [conda env:base] *",
   "language": "python",
   "name": "conda-base-py"
  },
  "language_info": {
   "codemirror_mode": {
    "name": "ipython",
    "version": 3
   },
   "file_extension": ".py",
   "mimetype": "text/x-python",
   "name": "python",
   "nbconvert_exporter": "python",
   "pygments_lexer": "ipython3",
   "version": "3.12.7"
  }
 },
 "nbformat": 4,
 "nbformat_minor": 5
}
