{
 "cells": [
  {
   "cell_type": "markdown",
   "id": "7ffa1ec8-5f7d-4be5-92ca-5f6989ab86fb",
   "metadata": {},
   "source": [
    "## File Read Write I/O Operation"
   ]
  },
  {
   "cell_type": "markdown",
   "id": "18cc64e6-71d7-4c94-8f53-97bcdbcbd040",
   "metadata": {},
   "source": [
    "### READ"
   ]
  },
  {
   "cell_type": "code",
   "execution_count": 3,
   "id": "7ae6ba2c-db2e-4f6d-b7db-edd8a7094056",
   "metadata": {},
   "outputs": [],
   "source": [
    "# f ya kuch bhi likh skte -> aik handler hota hai ram se hard drive mein aaraha hota hai\n",
    "f = open(\"text.txt\", 'r') "
   ]
  },
  {
   "cell_type": "code",
   "execution_count": 5,
   "id": "0c6dc7c2-6342-4a6d-924b-1262c6a5c240",
   "metadata": {},
   "outputs": [
    {
     "data": {
      "text/plain": [
       "'The oldest classical British and Latin writings had little or no space between words and could be written in boustrophedon (alternating directions). Over time, text direction (left to right) became standardized. Word dividers and terminal punctuation became common. The first way to divide sentences into groups was the original paragraphos, similar to an underscore at the beginning of the new group.[1] The Greek parÃ¡graphos evolved into the pilcrow (Â¶), which in English manuscripts in the Middle Ages can be seen inserted inline between sentences.\\n\\n\\nIndented paragraphs demonstrated in the US Constitution\\nAncient manuscripts also divided sentences into paragraphs with line breaks (newline) followed by an initial at the beginning of the next paragraph. An initial is an oversized capital letter, sometimes outdented beyond the margin of the text. This style can be seen, for example, in the original Old English manuscript of Beowulf. Outdenting is still used in English typography, though not commonly.[2] Modern English typography usually indicates a new paragraph by indenting the first line. This style can be seen in the (handwritten) United States Constitution from 1787. For additional ornamentation, a hedera leaf or other symbol can be added to the inter-paragraph white space, or put in the indentation space.'"
      ]
     },
     "execution_count": 5,
     "metadata": {},
     "output_type": "execute_result"
    }
   ],
   "source": [
    "f.read()"
   ]
  },
  {
   "cell_type": "code",
   "execution_count": 5,
   "id": "81b4d136-6763-4b4d-9ae3-22196624bcb2",
   "metadata": {},
   "outputs": [
    {
     "name": "stdout",
     "output_type": "stream",
     "text": [
      "The oldest classical British and Latin writings had little or no space between words and could be written in boustrophedon (alternating directions). Over time, text direction (left to right) became standardized. Word dividers and terminal punctuation became common. The first way to divide sentences into groups was the original paragraphos, similar to an underscore at the beginning of the new group.[1] The Greek parÃ¡graphos evolved into the pilcrow (Â¶), which in English manuscripts in the Middle Ages can be seen inserted inline between sentences.\n",
      "\n",
      "\n",
      "Indented paragraphs demonstrated in the US Constitution\n",
      "Ancient manuscripts also divided sentences into paragraphs with line breaks (newline) followed by an initial at the beginning of the next paragraph. An initial is an oversized capital letter, sometimes outdented beyond the margin of the text. This style can be seen, for example, in the original Old English manuscript of Beowulf. Outdenting is still used in English typography, though not commonly.[2] Modern English typography usually indicates a new paragraph by indenting the first line. This style can be seen in the (handwritten) United States Constitution from 1787. For additional ornamentation, a hedera leaf or other symbol can be added to the inter-paragraph white space, or put in the indentation space.\n"
     ]
    }
   ],
   "source": [
    "f = open(\"text.txt\", 'r')\n",
    "content = f.read()\n",
    "print(content)\n",
    "f.close()"
   ]
  },
  {
   "cell_type": "markdown",
   "id": "fe389353-9775-42cf-948e-76cbb20802b4",
   "metadata": {},
   "source": [
    "## context manager"
   ]
  },
  {
   "cell_type": "code",
   "execution_count": 10,
   "id": "15e41c12-c4d8-4511-b426-98c4b7361908",
   "metadata": {},
   "outputs": [
    {
     "name": "stdout",
     "output_type": "stream",
     "text": [
      "The oldest classical British and Latin writings had little or no space between words and could be written in boustrophedon (alternating directions). Over time, text direction (left to right) became standardized. Word dividers and terminal punctuation became common. The first way to divide sentences into groups was the original paragraphos, similar to an underscore at the beginning of the new group.[1] The Greek parÃ¡graphos evolved into the pilcrow (Â¶), which in English manuscripts in the Middle Ages can be seen inserted inline between sentences.\n",
      "\n",
      "\n",
      "Indented paragraphs demonstrated in the US Constitution\n",
      "Ancient manuscripts also divided sentences into paragraphs with line breaks (newline) followed by an initial at the beginning of the next paragraph. An initial is an oversized capital letter, sometimes outdented beyond the margin of the text. This style can be seen, for example, in the original Old English manuscript of Beowulf. Outdenting is still used in English typography, though not commonly.[2] Modern English typography usually indicates a new paragraph by indenting the first line. This style can be seen in the (handwritten) United States Constitution from 1787. For additional ornamentation, a hedera leaf or other symbol can be added to the inter-paragraph white space, or put in the indentation space.\n"
     ]
    }
   ],
   "source": [
    "# it will close after exitting the body that is\n",
    "with open(\"text.txt\", 'r') as f:\n",
    "    print(f.read())"
   ]
  },
  {
   "cell_type": "code",
   "execution_count": 12,
   "id": "e93f235b-2698-4589-991b-6f8a5b4e1e00",
   "metadata": {},
   "outputs": [
    {
     "name": "stdout",
     "output_type": "stream",
     "text": [
      "The oldest classical British and Latin writings had little or no space between words and could be written in boustrophedon (alternating directions). Over time, text direction (left to right) became standardized. Word dividers and terminal punctuation became common. The first way to divide sentences into groups was the original paragraphos, similar to an underscore at the beginning of the new group.[1] The Greek parÃ¡graphos evolved into the pilcrow (Â¶), which in English manuscripts in the Middle Ages can be seen inserted inline between sentences.\n",
      "\n"
     ]
    }
   ],
   "source": [
    "with open(\"text.txt\", 'r') as f:\n",
    "    print(f.readline())"
   ]
  },
  {
   "cell_type": "code",
   "execution_count": 16,
   "id": "55a68d78-6eea-4728-99df-313772326ca2",
   "metadata": {},
   "outputs": [
    {
     "name": "stdout",
     "output_type": "stream",
     "text": [
      "['The oldest classical British and Latin writings had little or no space between words and could be written in boustrophedon (alternating directions). Over time, text direction (left to right) became standardized. Word dividers and terminal punctuation became common. The first way to divide sentences into groups was the original paragraphos, similar to an underscore at the beginning of the new group.[1] The Greek parÃ¡graphos evolved into the pilcrow (Â¶), which in English manuscripts in the Middle Ages can be seen inserted inline between sentences.\\n', '\\n', '\\n', 'Indented paragraphs demonstrated in the US Constitution\\n', 'Ancient manuscripts also divided sentences into paragraphs with line breaks (newline) followed by an initial at the beginning of the next paragraph. An initial is an oversized capital letter, sometimes outdented beyond the margin of the text. This style can be seen, for example, in the original Old English manuscript of Beowulf. Outdenting is still used in English typography, though not commonly.[2] Modern English typography usually indicates a new paragraph by indenting the first line. This style can be seen in the (handwritten) United States Constitution from 1787. For additional ornamentation, a hedera leaf or other symbol can be added to the inter-paragraph white space, or put in the indentation space.']\n"
     ]
    }
   ],
   "source": [
    "# readlines method printing the text in list \n",
    "with open(\"text.txt\", 'r') as f:\n",
    "    print(f.readlines())"
   ]
  },
  {
   "cell_type": "code",
   "execution_count": 18,
   "id": "61246771-b59e-44bd-9717-2f0f967c27d3",
   "metadata": {},
   "outputs": [
    {
     "name": "stdout",
     "output_type": "stream",
     "text": [
      "The oldest classical British and Latin writings had little or no space between words and could be written in boustrophedon (alternating directions). Over time, text direction (left to right) became standardized. Word dividers and terminal punctuation became common. The first way to divide sentences into groups was the original paragraphos, similar to an underscore at the beginning of the new group.[1] The Greek parÃ¡graphos evolved into the pilcrow (Â¶), which in English manuscripts in the Middle Ages can be seen inserted inline between sentences.\n",
      "\n",
      "\n",
      "\n",
      "\n",
      "\n",
      "Indented paragraphs demonstrated in the US Constitution\n",
      "\n",
      "Ancient manuscripts also divided sentences into paragraphs with line breaks (newline) followed by an initial at the beginning of the next paragraph. An initial is an oversized capital letter, sometimes outdented beyond the margin of the text. This style can be seen, for example, in the original Old English manuscript of Beowulf. Outdenting is still used in English typography, though not commonly.[2] Modern English typography usually indicates a new paragraph by indenting the first line. This style can be seen in the (handwritten) United States Constitution from 1787. For additional ornamentation, a hedera leaf or other symbol can be added to the inter-paragraph white space, or put in the indentation space.\n"
     ]
    }
   ],
   "source": [
    "with open(\"text.txt\", 'r') as f:\n",
    "    for line in f:\n",
    "        print(line)"
   ]
  },
  {
   "cell_type": "code",
   "execution_count": 28,
   "id": "bc15da73-7405-4b8e-a12c-ec6e6b9eb1b7",
   "metadata": {},
   "outputs": [
    {
     "name": "stdout",
     "output_type": "stream",
     "text": [
      "1 \n",
      "\n",
      "2 \n",
      "\n",
      "3 Indented paragraphs demonstrated in the US Constitution\n",
      "\n"
     ]
    }
   ],
   "source": [
    "with open(\"text.txt\", 'r') as f:\n",
    "    for i,line in enumerate(f):\n",
    "        if len(line) > 200:\n",
    "            continue\n",
    "        print(i, line)"
   ]
  },
  {
   "cell_type": "code",
   "execution_count": 32,
   "id": "63b32586-93a7-4607-96c5-8b06c894d874",
   "metadata": {},
   "outputs": [
    {
     "name": "stdout",
     "output_type": "stream",
     "text": [
      "0 The oldest classical British and Latin writings had little or no space between words and could be written in boustrophedon (alternating directions). Over time, text direction (left to right) became standardized. Word dividers and terminal punctuation became common. The first way to divide sentences into groups was the original paragraphos, similar to an underscore at the beginning of the new group.[1] The Greek parÃ¡graphos evolved into the pilcrow (Â¶), which in English manuscripts in the Middle Ages can be seen inserted inline between sentences.\n",
      "\n"
     ]
    }
   ],
   "source": [
    "with open(\"text.txt\", 'r') as f:\n",
    "    for i,line in enumerate(f):\n",
    "        if ('British' in line) and (\"or\" in line):\n",
    "            print(i, line)"
   ]
  },
  {
   "cell_type": "markdown",
   "id": "a7f74e81-742b-40d7-a2b1-f23e1fda61b2",
   "metadata": {},
   "source": [
    "### WRITE"
   ]
  },
  {
   "cell_type": "code",
   "execution_count": 41,
   "id": "8380d252-42c1-493f-aeb1-6aa2f861c2aa",
   "metadata": {},
   "outputs": [
    {
     "name": "stdin",
     "output_type": "stream",
     "text": [
      "Enter your name or press 'q' to exit ibrahim\n",
      "Enter your name or press 'q' to exit abbas\n",
      "Enter your name or press 'q' to exit saim\n",
      "Enter your name or press 'q' to exit salman\n",
      "Enter your name or press 'q' to exit shaheen\n",
      "Enter your name or press 'q' to exit babar\n",
      "Enter your name or press 'q' to exit farhan\n",
      "Enter your name or press 'q' to exit nasir\n",
      "Enter your name or press 'q' to exit sufiyan\n",
      "Enter your name or press 'q' to exit q\n"
     ]
    }
   ],
   "source": [
    "with open(\"write.txt\", 'w') as bob:\n",
    "    serial = 0 \n",
    "    while True:\n",
    "        guest = input(\"Enter your name or press 'q' to exit\")\n",
    "        if guest != 'q':\n",
    "            bob.write(f\"{serial}- {guest} \\n\")\n",
    "            serial += 1\n",
    "        else:\n",
    "            break"
   ]
  },
  {
   "cell_type": "code",
   "execution_count": 72,
   "id": "b8a4bc9d-d215-4d2d-835a-15dfaf4baaff",
   "metadata": {},
   "outputs": [
    {
     "name": "stdout",
     "output_type": "stream",
     "text": [
      "0- ibrahim \n",
      "1- abbas \n",
      "2- saim \n",
      "3- salman \n",
      "4- shaheen \n",
      "5- babar \n",
      "6- farhan \n",
      "7- nasir \n",
      "8- sufiyan \n",
      "\n"
     ]
    }
   ],
   "source": [
    "with open(\"write.txt\") as bob:\n",
    "    print(bob.read())"
   ]
  },
  {
   "cell_type": "code",
   "execution_count": null,
   "id": "58bf4604-e23d-4604-ab6d-078269a3e84f",
   "metadata": {},
   "outputs": [],
   "source": []
  },
  {
   "cell_type": "code",
   "execution_count": null,
   "id": "df53b38f-b28a-4185-ac00-3765ddc9a58b",
   "metadata": {},
   "outputs": [],
   "source": []
  }
 ],
 "metadata": {
  "kernelspec": {
   "display_name": "Python [conda env:base] *",
   "language": "python",
   "name": "conda-base-py"
  },
  "language_info": {
   "codemirror_mode": {
    "name": "ipython",
    "version": 3
   },
   "file_extension": ".py",
   "mimetype": "text/x-python",
   "name": "python",
   "nbconvert_exporter": "python",
   "pygments_lexer": "ipython3",
   "version": "3.12.7"
  }
 },
 "nbformat": 4,
 "nbformat_minor": 5
}
