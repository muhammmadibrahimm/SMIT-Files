{
 "cells": [
  {
   "cell_type": "code",
   "execution_count": 35,
   "id": "0ed36427-333f-49cd-a3be-b1021ee6eb32",
   "metadata": {},
   "outputs": [
    {
     "name": "stdin",
     "output_type": "stream",
     "text": [
      "What do you want? or press q to exit usb\n"
     ]
    },
    {
     "name": "stdout",
     "output_type": "stream",
     "text": [
      "usb is not available\n"
     ]
    },
    {
     "name": "stdin",
     "output_type": "stream",
     "text": [
      "What do you want? or press q to exit q\n"
     ]
    },
    {
     "name": "stdout",
     "output_type": "stream",
     "text": [
      "Thank you for shopping\n",
      "{}\n"
     ]
    }
   ],
   "source": [
    "general_shop = [{'item': 'flour','price': 120, 'inventory':200},\n",
    "       {'item': 'rice','price': 200, 'inventory':210},\n",
    "       {'item': 'sugar','price': 140, 'inventory':120},\n",
    "       {'item': 'lentils','price': 80, 'inventory':300},\n",
    "       {'item': 'ghee','price': 200, 'inventory':250},\n",
    "       {'item': 'eggs','price': 280, 'inventory':1000},\n",
    "       {'item': 'salt','price': 20, 'inventory':220},\n",
    "       {'item': 'oil','price': 440, 'inventory':25}]\n",
    "cart = {}\n",
    "while True:\n",
    "    item_name = input(\"What do you want? or press q to exit\").lower()\n",
    "    if item_name== \"q\":\n",
    "        print(\"Thank you for shopping\")\n",
    "        print(cart)\n",
    "        break\n",
    "    else:\n",
    "        for a in general_shop:\n",
    "            if a['item']==item_name:\n",
    "                print(f\"{item_name} is {a['price']} per kg\")\n",
    "                quantity = float(input(\"How much do you want?\"))\n",
    "                if a['inventory'] >= quantity:\n",
    "                    cart[item_name] = a['price']*quantity\n",
    "                    a['inventory'] -= quantity\n",
    "                else:\n",
    "                    print(f\"{item_name} is not much enough in inventory \")\n",
    "        else:\n",
    "            print(f\"{item_name} is not available\")\n",
    "        "
   ]
  },
  {
   "cell_type": "code",
   "execution_count": 11,
   "id": "ce4779aa-acb3-4c60-9e95-f82c5a1bfe71",
   "metadata": {},
   "outputs": [
    {
     "data": {
      "text/plain": [
       "{'sugar': 1680.0}"
      ]
     },
     "execution_count": 11,
     "metadata": {},
     "output_type": "execute_result"
    }
   ],
   "source": [
    "cart"
   ]
  },
  {
   "cell_type": "code",
   "execution_count": 13,
   "id": "0feb16b5-013e-4015-8bfb-533a990be166",
   "metadata": {},
   "outputs": [
    {
     "data": {
      "text/plain": [
       "{'sugar': 1680.0}"
      ]
     },
     "execution_count": 13,
     "metadata": {},
     "output_type": "execute_result"
    }
   ],
   "source": [
    "cart"
   ]
  },
  {
   "cell_type": "code",
   "execution_count": null,
   "id": "a807496a-ded8-4d89-8032-176c04f5565e",
   "metadata": {},
   "outputs": [],
   "source": []
  },
  {
   "cell_type": "code",
   "execution_count": null,
   "id": "a8544958-51ad-4ff9-96d7-de8b6f8efcfa",
   "metadata": {},
   "outputs": [],
   "source": []
  }
 ],
 "metadata": {
  "kernelspec": {
   "display_name": "Python [conda env:base] *",
   "language": "python",
   "name": "conda-base-py"
  },
  "language_info": {
   "codemirror_mode": {
    "name": "ipython",
    "version": 3
   },
   "file_extension": ".py",
   "mimetype": "text/x-python",
   "name": "python",
   "nbconvert_exporter": "python",
   "pygments_lexer": "ipython3",
   "version": "3.12.7"
  }
 },
 "nbformat": 4,
 "nbformat_minor": 5
}
