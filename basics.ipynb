{
 "cells": [
  {
   "cell_type": "code",
   "execution_count": 20,
   "id": "6eee0253-e07a-4fb2-852e-05676ced8c64",
   "metadata": {},
   "outputs": [
    {
     "name": "stdout",
     "output_type": "stream",
     "text": [
      "IBRAHIM                      SID                      bobzie\n",
      "MUSTAFA\n"
     ]
    }
   ],
   "source": [
    "print(\"IBRAHIM\",\"SID\", \"bobzie\" , end=\"\\n\", sep=\"                      \" )\n",
    "print(\"MUSTAFA\")"
   ]
  },
  {
   "cell_type": "code",
   "execution_count": 27,
   "id": "acd1cbc0-2e7c-4a46-b626-d6e6b1c4c7d0",
   "metadata": {},
   "outputs": [
    {
     "name": "stdout",
     "output_type": "stream",
     "text": [
      "False\n"
     ]
    }
   ],
   "source": [
    "print(12>20)"
   ]
  },
  {
   "cell_type": "code",
   "execution_count": 29,
   "id": "f7089ac5-b309-4b36-a3a4-8b35a4c88448",
   "metadata": {},
   "outputs": [
    {
     "name": "stdout",
     "output_type": "stream",
     "text": [
      "sad\n"
     ]
    }
   ],
   "source": [
    "print(\"sad\")"
   ]
  },
  {
   "cell_type": "code",
   "execution_count": 36,
   "id": "107bed26-bdf3-447b-b997-cca38e2fc233",
   "metadata": {},
   "outputs": [
    {
     "data": {
      "text/plain": [
       "True"
      ]
     },
     "execution_count": 36,
     "metadata": {},
     "output_type": "execute_result"
    }
   ],
   "source": [
    "(12 < 20) or (11 < 20)"
   ]
  },
  {
   "cell_type": "markdown",
   "id": "ad82fe0f-cb22-45a2-94e8-e67434a3506d",
   "metadata": {
    "jp-MarkdownHeadingCollapsed": true
   },
   "source": [
    "(12 > 20) or (20 < 12)"
   ]
  },
  {
   "cell_type": "code",
   "execution_count": 38,
   "id": "06375043-e7fc-4c2a-af13-dc86ce428e28",
   "metadata": {},
   "outputs": [
    {
     "data": {
      "text/plain": [
       "True"
      ]
     },
     "execution_count": 38,
     "metadata": {},
     "output_type": "execute_result"
    }
   ],
   "source": [
    "(77 >= 22)"
   ]
  },
  {
   "cell_type": "code",
   "execution_count": 48,
   "id": "14b00f8f-93e2-4f26-935b-bc67c21b32a2",
   "metadata": {},
   "outputs": [],
   "source": [
    "a = 100\n",
    "b = 200"
   ]
  },
  {
   "cell_type": "code",
   "execution_count": null,
   "id": "ec12058a-9f1d-4367-b8d7-6da156197f3d",
   "metadata": {},
   "outputs": [],
   "source": []
  }
 ],
 "metadata": {
  "kernelspec": {
   "display_name": "Python [conda env:base] *",
   "language": "python",
   "name": "conda-base-py"
  },
  "language_info": {
   "codemirror_mode": {
    "name": "ipython",
    "version": 3
   },
   "file_extension": ".py",
   "mimetype": "text/x-python",
   "name": "python",
   "nbconvert_exporter": "python",
   "pygments_lexer": "ipython3",
   "version": "3.12.7"
  }
 },
 "nbformat": 4,
 "nbformat_minor": 5
}
