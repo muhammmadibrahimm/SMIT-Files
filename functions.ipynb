{
 "cells": [
  {
   "cell_type": "markdown",
   "id": "c8d3e4ee-1d6d-455b-9b2a-e90e41f0fde7",
   "metadata": {},
   "source": [
    "# FUNCTIONS\n",
    "    - python built in \n",
    "    - python class funtion\n",
    "    - user defined functions\n"
   ]
  },
  {
   "cell_type": "code",
   "execution_count": 3,
   "id": "f343a5de-e452-408e-b76f-f6a58bcee824",
   "metadata": {},
   "outputs": [],
   "source": [
    "# only defined but we use to call it then it prints the statement\n",
    "def say_hello():\n",
    "    print(\"HELLO HONEY\")"
   ]
  },
  {
   "cell_type": "code",
   "execution_count": 7,
   "id": "074584e8-d47e-452b-98e5-eb81368a3581",
   "metadata": {},
   "outputs": [
    {
     "name": "stdout",
     "output_type": "stream",
     "text": [
      "HELLO HONEY\n"
     ]
    }
   ],
   "source": [
    "# we call/invoke the function\n",
    "say_hello()"
   ]
  },
  {
   "cell_type": "code",
   "execution_count": 12,
   "id": "50fcc6fe-f519-49f2-abe4-3944d83cc0a3",
   "metadata": {},
   "outputs": [],
   "source": [
    "def add():\n",
    "    a = 7\n",
    "    b = 7\n",
    "    print(a+b)"
   ]
  },
  {
   "cell_type": "code",
   "execution_count": 14,
   "id": "916efd24-86aa-491a-bfd8-52984bc81ef0",
   "metadata": {},
   "outputs": [
    {
     "name": "stdout",
     "output_type": "stream",
     "text": [
      "14\n"
     ]
    }
   ],
   "source": [
    "add()"
   ]
  },
  {
   "cell_type": "code",
   "execution_count": 18,
   "id": "9f22ebda-7e55-4d14-90e7-0eca105ccbfb",
   "metadata": {},
   "outputs": [
    {
     "name": "stdout",
     "output_type": "stream",
     "text": [
      "HELLO HONEY\n"
     ]
    }
   ],
   "source": [
    "say_hello()"
   ]
  },
  {
   "cell_type": "code",
   "execution_count": 4,
   "id": "b59dcd0e-9e47-4d83-abd5-bf4e0f88fb14",
   "metadata": {},
   "outputs": [
    {
     "name": "stdout",
     "output_type": "stream",
     "text": [
      "Hello Ibrahim\n"
     ]
    }
   ],
   "source": [
    "#  parameterized function \n",
    "def say_hello(name):\n",
    "    print(f\"Hello {name}\")\n",
    "say_hello('Ibrahim') # argument"
   ]
  },
  {
   "cell_type": "code",
   "execution_count": 6,
   "id": "84a5984f-9347-4788-a111-c06fcbcb9624",
   "metadata": {},
   "outputs": [
    {
     "name": "stdout",
     "output_type": "stream",
     "text": [
      "17\n"
     ]
    }
   ],
   "source": [
    "def add(a, b):\n",
    "    print(a+b)\n",
    "add(10, 7)"
   ]
  },
  {
   "cell_type": "code",
   "execution_count": 35,
   "id": "be61465e-7b13-49c0-990b-c88372228857",
   "metadata": {},
   "outputs": [],
   "source": [
    "def text_analyzer(txt):\n",
    "    length = len(txt)\n",
    "    print(f\"Length is {length}\")\n",
    "    words = txt.split(\" \")\n",
    "    print(f\"words are {len(words)}\")\n",
    "    sentence = txt.split(\".\")\n",
    "    print(f\"sentences are {len(sentence)}\")\n",
    "    paragraph = txt.split(\"\\n\")\n",
    "    print(f\"paragraphs are {len(paragraph)}\")\n",
    "    vow = 'aeiouAEIOU'\n",
    "    punc = '!#$%&\\'()*+,-./:;<=>?@[\\\\]^_`{|}~' \n",
    "    alphabets = 0\n",
    "    spaces = 0\n",
    "    numbers = 0 \n",
    "    lower_case = 0\n",
    "    upper_case = 0\n",
    "    vowels = 0\n",
    "    punctuation = 0\n",
    "    others = 0\n",
    "    show_others = ''\n",
    "    for char in txt:\n",
    "        if char.isalpha():\n",
    "            alphabets+=1\n",
    "            if char.isupper():\n",
    "                upper_case+=1\n",
    "            else:\n",
    "                lower_case+=1\n",
    "            if char in vow:\n",
    "                vowels+=1\n",
    "        elif char.isspace():\n",
    "            spaces+=1\n",
    "        elif char.isnumeric():\n",
    "            numbers+=1\n",
    "        elif char in punc:\n",
    "            punctuation+=1\n",
    "        else:\n",
    "            others+=1\n",
    "            show_others+=char\n",
    "    print(f\"\"\" \n",
    "        Alphabets : {alphabets}\n",
    "        Upper Case : {upper_case}\n",
    "        Lower Case : {lower_case}\n",
    "        Spaces : {spaces}\n",
    "        Numbers : {numbers}\n",
    "        Vowels : {vowels}\n",
    "        Punctuation : {punctuation}\n",
    "        Others : {others}\n",
    "        Others are : {show_others}\n",
    "        \"\"\")\n",
    "                     \n",
    "    "
   ]
  },
  {
   "cell_type": "code",
   "execution_count": 37,
   "id": "f8d1932c-2ae7-4233-8591-eea8f6ee04f9",
   "metadata": {
    "scrolled": true
   },
   "outputs": [
    {
     "name": "stdout",
     "output_type": "stream",
     "text": [
      "Length is 451\n",
      "words are 62\n",
      "sentences are 8\n",
      "paragraphs are 2\n",
      " \n",
      "        Alphabets : 325\n",
      "        Upper Case : 10\n",
      "        Lower Case : 315\n",
      "        Spaces : 62\n",
      "        Numbers : 21\n",
      "        Vowels : 119\n",
      "        Punctuation : 35\n",
      "        Others : 8\n",
      "        Others are : \"\"—\"\"—\"\"\n",
      "        \n"
     ]
    }
   ],
   "source": [
    "text_analyzer('''In 2025, user_007 logged into the server using the password \"P@ssw0rd!123\" — a combination of uppercase letters, lowercase letters, numbers, and special characters. His mission: upload file_v3.4.7-beta.zip to the /usr/local/bin/ directory before 12:34 AM. Meanwhile, the system threw error code #403: \"Access_Denied@root_level!\" — classic. So he pinged his admin, emailed support@tech.co, and left a comment: \"bruh, why dis always happen on Fridays?\"\n",
    "''')"
   ]
  },
  {
   "cell_type": "code",
   "execution_count": 8,
   "id": "6b9fa1d3-6883-4136-b2ca-99cd640a6bcf",
   "metadata": {},
   "outputs": [
    {
     "data": {
      "text/plain": [
       "['he is ', ' engineer']"
      ]
     },
     "execution_count": 8,
     "metadata": {},
     "output_type": "execute_result"
    }
   ],
   "source": [
    "# split function\n",
    "'he is a engineer'.split(\"a\")\n"
   ]
  },
  {
   "cell_type": "code",
   "execution_count": 10,
   "id": "3d57bd57-e0fc-4a3f-aff3-8d86c70be2a2",
   "metadata": {},
   "outputs": [
    {
     "data": {
      "text/plain": [
       "7"
      ]
     },
     "execution_count": 10,
     "metadata": {},
     "output_type": "execute_result"
    }
   ],
   "source": [
    "name = 'ibrahim'\n",
    "len(name)"
   ]
  },
  {
   "cell_type": "code",
   "execution_count": 12,
   "id": "fe7552f1-10cf-48ea-b9f6-99f3cee3e165",
   "metadata": {
    "scrolled": true
   },
   "outputs": [
    {
     "name": "stdout",
     "output_type": "stream",
     "text": [
      "H is a alphabet\n",
      "e is a alphabet\n",
      "  is not a alphabet\n",
      "i is a alphabet\n",
      "s is a alphabet\n",
      "  is not a alphabet\n",
      "a is a alphabet\n",
      "  is not a alphabet\n",
      "E is a alphabet\n",
      "n is a alphabet\n",
      "g is a alphabet\n",
      "i is a alphabet\n",
      "n is a alphabet\n",
      "e is a alphabet\n",
      "e is a alphabet\n",
      "r is a alphabet\n"
     ]
    }
   ],
   "source": [
    "for char in \"He is a Engineer\":\n",
    "    if char.isalpha():\n",
    "        print(f\"{char} is a alphabet\")\n",
    "    else:\n",
    "        print(f\"{char} is not a alphabet\")\n"
   ]
  },
  {
   "cell_type": "code",
   "execution_count": 15,
   "id": "d54ed463-0712-4ea4-a177-2e19622a164f",
   "metadata": {},
   "outputs": [],
   "source": [
    "import string"
   ]
  },
  {
   "cell_type": "code",
   "execution_count": 17,
   "id": "7717d8b3-d18c-4de1-adb3-187a37f0c225",
   "metadata": {},
   "outputs": [
    {
     "data": {
      "text/plain": [
       "'!\"#$%&\\'()*+,-./:;<=>?@[\\\\]^_`{|}~'"
      ]
     },
     "execution_count": 17,
     "metadata": {},
     "output_type": "execute_result"
    }
   ],
   "source": [
    "string.punctuation"
   ]
  },
  {
   "cell_type": "markdown",
   "id": "8dadd0a3-a3da-4a43-9462-fea1093d8dbc",
   "metadata": {},
   "source": [
    "# RETURN\n",
    "    to values form a function"
   ]
  },
  {
   "cell_type": "code",
   "execution_count": 5,
   "id": "8faa1187-9c85-412f-bdbd-3b88e72bd8b4",
   "metadata": {},
   "outputs": [
    {
     "name": "stdout",
     "output_type": "stream",
     "text": [
      "25\n"
     ]
    }
   ],
   "source": [
    "def square(n):\n",
    "    squared = n**2\n",
    "    print(squared)\n",
    "square(5)"
   ]
  },
  {
   "cell_type": "code",
   "execution_count": 7,
   "id": "de916937-318e-4ca4-8f0e-25bf0471a438",
   "metadata": {},
   "outputs": [],
   "source": [
    "# variables inside a function is called local variables\n",
    "# local variables can be used inside function\n",
    "# scope of local variables inside function"
   ]
  },
  {
   "cell_type": "code",
   "execution_count": 9,
   "id": "82352732-9d74-4072-87bd-70ae97d05028",
   "metadata": {},
   "outputs": [
    {
     "name": "stdout",
     "output_type": "stream",
     "text": [
      "9216\n"
     ]
    }
   ],
   "source": [
    "square(96)"
   ]
  },
  {
   "cell_type": "code",
   "execution_count": 11,
   "id": "2b68d48b-02ea-4cbb-ac3a-03d6550f24d2",
   "metadata": {},
   "outputs": [
    {
     "name": "stdout",
     "output_type": "stream",
     "text": [
      "1\n"
     ]
    }
   ],
   "source": [
    "square(1)"
   ]
  },
  {
   "cell_type": "code",
   "execution_count": 13,
   "id": "94ffd1cf-4681-4b17-aac2-8f69888f1ded",
   "metadata": {},
   "outputs": [
    {
     "name": "stdout",
     "output_type": "stream",
     "text": [
      "4\n"
     ]
    }
   ],
   "source": [
    "square(2)"
   ]
  },
  {
   "cell_type": "code",
   "execution_count": null,
   "id": "3eac6b06-1d05-4dd8-ade3-c087af45e83b",
   "metadata": {},
   "outputs": [],
   "source": []
  },
  {
   "cell_type": "code",
   "execution_count": null,
   "id": "1170c208-78d7-4be4-8f86-a6f84e76b274",
   "metadata": {},
   "outputs": [],
   "source": []
  },
  {
   "cell_type": "code",
   "execution_count": null,
   "id": "c28700b8-e5b4-457f-bc83-06a4a94e42a4",
   "metadata": {},
   "outputs": [],
   "source": []
  },
  {
   "cell_type": "code",
   "execution_count": null,
   "id": "ef7f9dcb-4cf3-496d-aa65-383aa23b360e",
   "metadata": {},
   "outputs": [],
   "source": []
  },
  {
   "cell_type": "code",
   "execution_count": null,
   "id": "3a911fd2-b737-4146-a08c-20341f57717d",
   "metadata": {},
   "outputs": [],
   "source": []
  }
 ],
 "metadata": {
  "kernelspec": {
   "display_name": "Python [conda env:base] *",
   "language": "python",
   "name": "conda-base-py"
  },
  "language_info": {
   "codemirror_mode": {
    "name": "ipython",
    "version": 3
   },
   "file_extension": ".py",
   "mimetype": "text/x-python",
   "name": "python",
   "nbconvert_exporter": "python",
   "pygments_lexer": "ipython3",
   "version": "3.12.7"
  }
 },
 "nbformat": 4,
 "nbformat_minor": 5
}
