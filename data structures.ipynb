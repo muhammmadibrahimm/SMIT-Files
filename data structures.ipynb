{
 "cells": [
  {
   "cell_type": "markdown",
   "id": "2ada967a-ec22-4a6a-b419-ac2f86fee833",
   "metadata": {},
   "source": [
    "# List"
   ]
  },
  {
   "cell_type": "markdown",
   "id": "700a50c6-71cb-4e0d-82f2-74e67216ec16",
   "metadata": {},
   "source": [
    "    - []\n",
    "    - mutable: elements in list can be change after execution\n",
    "    - iterable: In Python, an iterable is an object that can be looped over, or \"iterated\" through, to access its elements one by one. This means you can  use an iterable in a for loop, list comprehension, or with functions like sum(), sorted(), or map()."
   ]
  },
  {
   "cell_type": "code",
   "execution_count": 11,
   "id": "a16dc8d8-8e7d-44c8-8f54-92a4502d7c9a",
   "metadata": {},
   "outputs": [],
   "source": [
    "#creating an list\n",
    "student = []"
   ]
  },
  {
   "cell_type": "code",
   "execution_count": 15,
   "id": "612f7fa9-35f4-4503-91bb-c13d3facfe3e",
   "metadata": {},
   "outputs": [
    {
     "name": "stdout",
     "output_type": "stream",
     "text": [
      "<class 'list'>\n"
     ]
    }
   ],
   "source": [
    "print(type(student))"
   ]
  },
  {
   "cell_type": "code",
   "execution_count": 21,
   "id": "764a11af-3630-47d2-b019-6cc1b51b5338",
   "metadata": {},
   "outputs": [
    {
     "data": {
      "text/plain": [
       "0"
      ]
     },
     "execution_count": 21,
     "metadata": {},
     "output_type": "execute_result"
    }
   ],
   "source": [
    "len(student)"
   ]
  },
  {
   "cell_type": "code",
   "execution_count": 6,
   "id": "e7bfed0d-f6f4-45e9-a14b-7d00c3ae490e",
   "metadata": {},
   "outputs": [
    {
     "name": "stdout",
     "output_type": "stream",
     "text": [
      "['asad', 'ibrahim', 'dhoni', 'shakeel', 'monica', 'hailee']\n"
     ]
    }
   ],
   "source": [
    "#creating an membered  list\n",
    "student = ['asad', 'ibrahim', 'dhoni', 'shakeel', 'monica', 'hailee']\n",
    "print(student)"
   ]
  },
  {
   "cell_type": "code",
   "execution_count": 10,
   "id": "601e96c6-a9e9-4bf0-bd41-6cbc7a9fa69e",
   "metadata": {},
   "outputs": [
    {
     "data": {
      "text/plain": [
       "6"
      ]
     },
     "execution_count": 10,
     "metadata": {},
     "output_type": "execute_result"
    }
   ],
   "source": [
    "len(student)"
   ]
  },
  {
   "cell_type": "markdown",
   "id": "d3270f05-7f05-4da0-b08c-79957a03f0f7",
   "metadata": {},
   "source": [
    "### INDEX : indices"
   ]
  },
  {
   "cell_type": "code",
   "execution_count": 19,
   "id": "f42526d5-0fdc-4eb3-bd9d-81314f65781b",
   "metadata": {},
   "outputs": [],
   "source": [
    "# +ve         0        1         2         3          4         5\n",
    "student = ['asad', 'ibrahim', 'dhoni', 'shakeel', 'monica', 'hailee']\n",
    "# -ve        -6       -5        -4        -3        -2         -1"
   ]
  },
  {
   "cell_type": "code",
   "execution_count": 21,
   "id": "8fdd3d48-9c96-4d34-8e13-6a0bbfe41208",
   "metadata": {},
   "outputs": [
    {
     "data": {
      "text/plain": [
       "('dhoni', 'dhoni')"
      ]
     },
     "execution_count": 21,
     "metadata": {},
     "output_type": "execute_result"
    }
   ],
   "source": [
    "student[2], student[-4]"
   ]
  },
  {
   "cell_type": "code",
   "execution_count": 29,
   "id": "e7886819-bf4c-4d4f-94f7-cfc01551ff9d",
   "metadata": {},
   "outputs": [
    {
     "data": {
      "text/plain": [
       "'ibrahim'"
      ]
     },
     "execution_count": 29,
     "metadata": {},
     "output_type": "execute_result"
    }
   ],
   "source": [
    "student[1]"
   ]
  },
  {
   "cell_type": "code",
   "execution_count": 66,
   "id": "062fb44d-e9b2-486f-bc48-f23298b2c51c",
   "metadata": {},
   "outputs": [
    {
     "data": {
      "text/plain": [
       "['hailee']"
      ]
     },
     "execution_count": 66,
     "metadata": {},
     "output_type": "execute_result"
    }
   ],
   "source": [
    "student[-1:]"
   ]
  },
  {
   "cell_type": "markdown",
   "id": "1ffea24e-a375-4eea-8283-52c95f2bfc6f",
   "metadata": {},
   "source": [
    "# INSTANCE\n",
    "#### In Python, an instance refers to a specific object created from a class. A class acts as a blueprint or a template that defines the structure and behavior (attributes and methods) that objects of that class will possess. An instance is a concrete realization of that blueprint, a unique entity that holds its own set of data according to the class's definition."
   ]
  },
  {
   "cell_type": "code",
   "execution_count": null,
   "id": "58680486-54a6-41d8-ab39-7d0f8651e126",
   "metadata": {},
   "outputs": [],
   "source": [
    "#            0         1         2         3          4         5        6         7         8\n",
    "student = ['asad', 'ibrahim', 'dhoni', 'shakeel', 'monica', 'hailee', 'salman', 'mirza', 'mcavoy']\n",
    "#            -9        -8        -7        -6         -5       -4         -3       -2        -1\n",
    "student[1:6]"
   ]
  },
  {
   "cell_type": "code",
   "execution_count": null,
   "id": "0a6f631f-cc47-4bd2-8c56-a84db53eeb5e",
   "metadata": {},
   "outputs": [],
   "source": [
    "student[:-6]"
   ]
  },
  {
   "cell_type": "code",
   "execution_count": null,
   "id": "3b207e9c-3f45-4b0f-b6fb-4a91e8878aae",
   "metadata": {},
   "outputs": [],
   "source": [
    "student[-8:8]"
   ]
  },
  {
   "cell_type": "code",
   "execution_count": null,
   "id": "45fc075f-c1da-4947-9983-32ebef0a1721",
   "metadata": {},
   "outputs": [],
   "source": [
    "student[-9:1]"
   ]
  },
  {
   "cell_type": "code",
   "execution_count": null,
   "id": "19a3a757-f92f-4349-a3dc-84a3451e3dd2",
   "metadata": {},
   "outputs": [],
   "source": [
    "#            0         1         2         3          4         5        6         7         8\n",
    "student = ['asad', 'ibrahim', 'dhoni', 'shakeel', 'monica', 'hailee', 'salman', 'mirza', 'mcavoy']\n",
    "#            -9        -8        -7        -6         -5       -4         -3       -2        -1"
   ]
  },
  {
   "cell_type": "code",
   "execution_count": null,
   "id": "6914c1a4-5248-4b47-a76c-7722cfe73c9e",
   "metadata": {},
   "outputs": [],
   "source": [
    "student[0:8:1]  # start : end : step"
   ]
  },
  {
   "cell_type": "code",
   "execution_count": null,
   "id": "8ffcef1d-e006-41d3-a06a-b2c90fdeddba",
   "metadata": {},
   "outputs": [],
   "source": [
    "student[0:8:2]"
   ]
  },
  {
   "cell_type": "code",
   "execution_count": null,
   "id": "9b7a6992-f3f5-47ba-973d-91abab40209c",
   "metadata": {},
   "outputs": [],
   "source": [
    "student[::2]"
   ]
  },
  {
   "cell_type": "code",
   "execution_count": null,
   "id": "81d89369-7c0f-42ef-b4b7-130e67b65b17",
   "metadata": {},
   "outputs": [],
   "source": [
    "student[::-1]"
   ]
  },
  {
   "cell_type": "code",
   "execution_count": null,
   "id": "91fabf29-2432-4e44-8362-57c1d3ff6e81",
   "metadata": {},
   "outputs": [],
   "source": [
    "student[8:4:-1]"
   ]
  },
  {
   "cell_type": "code",
   "execution_count": null,
   "id": "adf04266-3b59-403c-a1dd-ddccf9190106",
   "metadata": {},
   "outputs": [],
   "source": [
    "my_list = [\"Hello\", \"Python\"]\n",
    "print(\"-\".join(my_list))"
   ]
  },
  {
   "cell_type": "markdown",
   "id": "527dfa1a-715f-4cd0-94c4-101ec8d502d3",
   "metadata": {},
   "source": [
    "#### 7. Which operator is used to concatenate two lists (create a new list by joining them)?\n",
    "\n",
    "##### *\n",
    "##### + (correct)\n",
    "##### &\n",
    "##### |"
   ]
  },
  {
   "cell_type": "code",
   "execution_count": null,
   "id": "79cfdd26-4b1b-4f28-9169-5448013f548d",
   "metadata": {},
   "outputs": [],
   "source": [
    "numb = [20, 30, 40 ,50]\n",
    "del numb[1]\n",
    "numb.remove(50)\n",
    "print(numb)"
   ]
  },
  {
   "cell_type": "code",
   "execution_count": null,
   "id": "572a33b0-5d81-47af-9b1d-fc62f5da2313",
   "metadata": {},
   "outputs": [],
   "source": [
    "my_list = [99, 66, 11]\n",
    "my_list.sort()\n",
    "print(my_list)"
   ]
  },
  {
   "cell_type": "code",
   "execution_count": null,
   "id": "55f5d722-b66b-4327-8851-973cb4f75c23",
   "metadata": {},
   "outputs": [],
   "source": [
    "student = ['asad', 'ibrahim', 'dhoni', 'shakeel', 'monica', 'hailee', 'salman', 'mirza', 'mcavoy']\n",
    "new_Student = student.copy()\n",
    "new_Student = list(student)\n",
    "new_Student = student[:]\n",
    "# all methods are use to copy the list as shallow copy"
   ]
  },
  {
   "cell_type": "code",
   "execution_count": 13,
   "id": "16c5ed1e-0339-4aed-a7a9-4498ceefcd3b",
   "metadata": {},
   "outputs": [
    {
     "name": "stdout",
     "output_type": "stream",
     "text": [
      "4\n"
     ]
    }
   ],
   "source": [
    "my_list = [1, 2, 3]\n",
    "my_list.append([4, 5])\n",
    "print(len(my_list))"
   ]
  },
  {
   "cell_type": "code",
   "execution_count": 19,
   "id": "760f4293-f66e-48a4-88c1-aa40fccc64a3",
   "metadata": {},
   "outputs": [
    {
     "name": "stdout",
     "output_type": "stream",
     "text": [
      "Y\n",
      "16\n"
     ]
    }
   ],
   "source": [
    "aList = [\"PYnative\", [4, 8, 12, 16]]\n",
    "print(aList[0][1])    \n",
    "print(aList[1][3])"
   ]
  },
  {
   "cell_type": "code",
   "execution_count": 20,
   "id": "0208b082-3618-46ab-a739-49f9131a5c2f",
   "metadata": {},
   "outputs": [
    {
     "name": "stdout",
     "output_type": "stream",
     "text": [
      "Y\n"
     ]
    }
   ],
   "source": [
    "aList = [\"PYnative\", [4, 8, 12, 16]]\n",
    "print(aList[0][1]) "
   ]
  },
  {
   "cell_type": "code",
   "execution_count": 21,
   "id": "0c5a3710-026e-4428-b42e-eb9a4ea3e281",
   "metadata": {},
   "outputs": [
    {
     "name": "stdout",
     "output_type": "stream",
     "text": [
      "[1, 2, 3, 4]\n"
     ]
    }
   ],
   "source": [
    "list1 = [1, 2, 3]\n",
    "list2 = list1\n",
    "list2.append(4)\n",
    "print(list1)"
   ]
  },
  {
   "cell_type": "code",
   "execution_count": 23,
   "id": "e8df9bc5-84d7-4ee9-9cf4-43e3952356d2",
   "metadata": {},
   "outputs": [
    {
     "name": "stdout",
     "output_type": "stream",
     "text": [
      "[1, 2, 3, [4, 5]]\n"
     ]
    }
   ],
   "source": [
    "my_list = [1, 2, 3]\n",
    "my_list.append([4, 5])\n",
    "print(my_list)"
   ]
  },
  {
   "cell_type": "code",
   "execution_count": 24,
   "id": "12187064-63d7-4bea-9d10-12a7801aea35",
   "metadata": {},
   "outputs": [
    {
     "name": "stdout",
     "output_type": "stream",
     "text": [
      "[1, 2, 3, 4, 5]\n"
     ]
    }
   ],
   "source": [
    "my_list = [1, 2, 3]\n",
    "my_list.extend([4, 5])\n",
    "print(my_list)\n"
   ]
  },
  {
   "cell_type": "code",
   "execution_count": 28,
   "id": "a3251358-6bb3-492f-a62e-b5ae74c1f0ad",
   "metadata": {},
   "outputs": [
    {
     "name": "stdout",
     "output_type": "stream",
     "text": [
      "[1, 2, 3, 4]\n"
     ]
    }
   ],
   "source": [
    "a = [1, 2]\n",
    "b = [3, 4]\n",
    "c = a + b\n",
    "print(c)"
   ]
  },
  {
   "cell_type": "code",
   "execution_count": 31,
   "id": "ec5d8313-bcad-4bf0-bb43-229a00edf004",
   "metadata": {},
   "outputs": [
    {
     "name": "stdout",
     "output_type": "stream",
     "text": [
      "['a', 'x', 'y', 'e']\n"
     ]
    }
   ],
   "source": [
    "letters = ['a', 'b', 'c', 'd', 'e']\n",
    "letters[1:4] = ['x', 'y']\n",
    "print(letters)\n",
    "# replace method"
   ]
  },
  {
   "cell_type": "code",
   "execution_count": null,
   "id": "77b9a927-25b0-4a15-b785-75bff70b2fde",
   "metadata": {},
   "outputs": [],
   "source": []
  },
  {
   "cell_type": "code",
   "execution_count": null,
   "id": "504c235f-20bd-422c-9934-cd018466da49",
   "metadata": {},
   "outputs": [],
   "source": []
  },
  {
   "cell_type": "code",
   "execution_count": null,
   "id": "b111ceee-c46e-4347-ac50-ba73231f6cb9",
   "metadata": {},
   "outputs": [],
   "source": []
  },
  {
   "cell_type": "code",
   "execution_count": null,
   "id": "b34d1fad-73d8-4cfb-be95-f3b1940c4c8a",
   "metadata": {},
   "outputs": [],
   "source": []
  },
  {
   "cell_type": "code",
   "execution_count": null,
   "id": "d6764edb-b593-40a6-bd04-aeb969a7c4ff",
   "metadata": {},
   "outputs": [],
   "source": []
  },
  {
   "cell_type": "code",
   "execution_count": null,
   "id": "0c4544a4-9b2a-4f20-9de3-66b042aee800",
   "metadata": {},
   "outputs": [],
   "source": []
  },
  {
   "cell_type": "code",
   "execution_count": null,
   "id": "c43d9a12-4dd2-497b-8293-c68bd0ed9fb7",
   "metadata": {},
   "outputs": [],
   "source": []
  }
 ],
 "metadata": {
  "kernelspec": {
   "display_name": "Python [conda env:base] *",
   "language": "python",
   "name": "conda-base-py"
  },
  "language_info": {
   "codemirror_mode": {
    "name": "ipython",
    "version": 3
   },
   "file_extension": ".py",
   "mimetype": "text/x-python",
   "name": "python",
   "nbconvert_exporter": "python",
   "pygments_lexer": "ipython3",
   "version": "3.12.7"
  }
 },
 "nbformat": 4,
 "nbformat_minor": 5
}
