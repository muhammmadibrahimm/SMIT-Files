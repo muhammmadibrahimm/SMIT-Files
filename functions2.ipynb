{
 "cells": [
  {
   "cell_type": "markdown",
   "id": "62056ed2-2f8c-4483-9eca-c29a42a8a0c9",
   "metadata": {},
   "source": [
    "# Arbitrary number of arguments"
   ]
  },
  {
   "cell_type": "code",
   "execution_count": 2,
   "id": "5a459175-cf8e-4534-bd1c-e50e5d1de067",
   "metadata": {},
   "outputs": [
    {
     "name": "stdout",
     "output_type": "stream",
     "text": [
      "55\n"
     ]
    }
   ],
   "source": [
    "def add_num(*nums): # * receive all values in tuple\n",
    "    return sum(nums)\n",
    "\n",
    "print(add_num(1,2,3,4,5,6,7,8,9,10))"
   ]
  },
  {
   "cell_type": "code",
   "execution_count": 1,
   "id": "f51d00d1-1c8b-46ad-abe3-749e0cd458fe",
   "metadata": {},
   "outputs": [
    {
     "data": {
      "text/plain": [
       "42"
      ]
     },
     "execution_count": 1,
     "metadata": {},
     "output_type": "execute_result"
    }
   ],
   "source": [
    "def add_even_num(*nums): # this will add all even numbers that we provide\n",
    "    res = 0\n",
    "    for n in nums:\n",
    "        if n % 2 == 0:\n",
    "            res += n\n",
    "    return res\n",
    "\n",
    "add_even_num(1,2,3,4,5,6,7,8,9,10,13,12,23,25)"
   ]
  },
  {
   "cell_type": "markdown",
   "id": "21e0924b-d11f-40b6-ba93-04ec91281a8c",
   "metadata": {},
   "source": [
    "# Positional arguments and Keyword arguments"
   ]
  },
  {
   "cell_type": "code",
   "execution_count": 7,
   "id": "fd317352-64df-4d82-9663-0fa519597995",
   "metadata": {},
   "outputs": [
    {
     "name": "stdout",
     "output_type": "stream",
     "text": [
      "Muhammad Ibrahim Shakeel\n"
     ]
    }
   ],
   "source": [
    "def full_name(first_name, middle_name, last_name):\n",
    "    print(f\"{first_name} {middle_name} {last_name}\")\n",
    "\n",
    "full_name('Muhammad', 'Ibrahim', 'Shakeel') # positional arguments"
   ]
  },
  {
   "cell_type": "code",
   "execution_count": 9,
   "id": "6285d4f0-3ee0-45ba-9169-d128106ba8c6",
   "metadata": {},
   "outputs": [
    {
     "name": "stdout",
     "output_type": "stream",
     "text": [
      "Muhammad Ibrahim Shakeel\n"
     ]
    }
   ],
   "source": [
    "full_name(first_name = 'Muhammad',middle_name = 'Ibrahim',last_name = 'Shakeel') #keyword arguments"
   ]
  },
  {
   "cell_type": "code",
   "execution_count": 11,
   "id": "f3960d54-3e7b-43bf-8d25-18d2a8ef523f",
   "metadata": {},
   "outputs": [
    {
     "name": "stdout",
     "output_type": "stream",
     "text": [
      "Muhammad Ibrahim \n"
     ]
    }
   ],
   "source": [
    "full_name(first_name = 'Muhammad',middle_name = 'Ibrahim',last_name = \"\")"
   ]
  },
  {
   "cell_type": "markdown",
   "id": "048ea8d3-af33-4e94-983c-a7c763c37c91",
   "metadata": {},
   "source": [
    "# Arbitrary Keyword Arguments"
   ]
  },
  {
   "cell_type": "code",
   "execution_count": 14,
   "id": "b270b74f-f32b-4183-b94e-ed3dd243bb39",
   "metadata": {},
   "outputs": [
    {
     "data": {
      "text/plain": [
       "{'Name': 'Ibrahim',\n",
       " 'Age': 20,\n",
       " 'Last Qualification': 'Undergraduate',\n",
       " 'Experience': 2}"
      ]
     },
     "execution_count": 14,
     "metadata": {},
     "output_type": "execute_result"
    }
   ],
   "source": [
    "def bio(name, age, last_qualification, experience):\n",
    "    return {'Name': name, 'Age': age, 'Last Qualification': last_qualification, 'Experience': experience}\n",
    "\n",
    "bio('Ibrahim', 20, 'Undergraduate', 2)"
   ]
  },
  {
   "cell_type": "code",
   "execution_count": 16,
   "id": "65a8a60e-ce49-4cbc-8b86-a10c201b66e4",
   "metadata": {},
   "outputs": [
    {
     "data": {
      "text/plain": [
       "{'Name': 'Ibrahim',\n",
       " 'Age': 20,\n",
       " 'Last Qualification': 'Undergraduate',\n",
       " 'Experience': 2,\n",
       " 'gender': 'male',\n",
       " 'relgion': 'islam'}"
      ]
     },
     "execution_count": 16,
     "metadata": {},
     "output_type": "execute_result"
    }
   ],
   "source": [
    "def bio(name, age, last_qualification, experience, **other_info):\n",
    "    return {'Name': name, 'Age': age, 'Last Qualification': last_qualification, 'Experience': experience} | other_info # bar is used to concatenate\n",
    "\n",
    "bio(name = 'Ibrahim',age = 20,last_qualification = 'Undergraduate',experience = 2, gender = 'male', relgion = 'islam')"
   ]
  },
  {
   "cell_type": "code",
   "execution_count": 19,
   "id": "eeb59841-48c1-414d-a31d-a3215479ce79",
   "metadata": {},
   "outputs": [],
   "source": [
    "import python_banking_system"
   ]
  },
  {
   "cell_type": "code",
   "execution_count": 21,
   "id": "a5ef017a-e5e8-4384-bade-f02320e04a65",
   "metadata": {},
   "outputs": [],
   "source": [
    "from python_banking_system import cash_withdrawl"
   ]
  },
  {
   "cell_type": "code",
   "execution_count": null,
   "id": "244188c1-3982-4d83-a084-1bde00a38145",
   "metadata": {},
   "outputs": [],
   "source": []
  },
  {
   "cell_type": "code",
   "execution_count": null,
   "id": "02764d5c-3fab-4dce-9b4d-a7528cde8bec",
   "metadata": {},
   "outputs": [],
   "source": []
  },
  {
   "cell_type": "code",
   "execution_count": null,
   "id": "7e9c6b74-b08f-4ef1-924a-b86d5da41c68",
   "metadata": {},
   "outputs": [],
   "source": []
  }
 ],
 "metadata": {
  "kernelspec": {
   "display_name": "Python [conda env:base] *",
   "language": "python",
   "name": "conda-base-py"
  },
  "language_info": {
   "codemirror_mode": {
    "name": "ipython",
    "version": 3
   },
   "file_extension": ".py",
   "mimetype": "text/x-python",
   "name": "python",
   "nbconvert_exporter": "python",
   "pygments_lexer": "ipython3",
   "version": "3.12.7"
  }
 },
 "nbformat": 4,
 "nbformat_minor": 5
}
