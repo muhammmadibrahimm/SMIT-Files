{
 "cells": [
  {
   "cell_type": "code",
   "execution_count": 13,
   "id": "820102d7-2dab-481e-9d45-6acbabf301ba",
   "metadata": {},
   "outputs": [],
   "source": [
    "#            0         1         2         3          4         5        6         7         8\n",
    "student = ['asad', 'ibrahim', 'dhoni', 'shakeel', 'monica', 'hailee', 'salman', 'mirza', 'mcavoy']\n",
    "#            -9        -8        -7        -6         -5       -4         -3       -2        -1\n",
    "student.sort()"
   ]
  },
  {
   "cell_type": "code",
   "execution_count": 17,
   "id": "5d097610-e110-4203-a8e7-ca3895412efb",
   "metadata": {},
   "outputs": [
    {
     "name": "stdout",
     "output_type": "stream",
     "text": [
      "['asad', 'dhoni', 'hailee', 'ibrahim', 'mcavoy', 'mirza', 'monica', 'salman', 'shakeel']\n"
     ]
    }
   ],
   "source": [
    "print(student)"
   ]
  },
  {
   "cell_type": "code",
   "execution_count": 19,
   "id": "c5e965fe-2b4a-4315-9ae6-af66d6a59d7a",
   "metadata": {},
   "outputs": [],
   "source": [
    "student.reverse()"
   ]
  },
  {
   "cell_type": "code",
   "execution_count": 21,
   "id": "b669afa2-63ab-493b-9e75-fb2dcc72f31b",
   "metadata": {},
   "outputs": [
    {
     "name": "stdout",
     "output_type": "stream",
     "text": [
      "['shakeel', 'salman', 'monica', 'mirza', 'mcavoy', 'ibrahim', 'hailee', 'dhoni', 'asad']\n"
     ]
    }
   ],
   "source": [
    "print(student)"
   ]
  },
  {
   "cell_type": "code",
   "execution_count": 23,
   "id": "5b71d2a0-f6a7-41b4-9c63-6f109dc96273",
   "metadata": {},
   "outputs": [],
   "source": [
    "nums = [12,45,76,98,7,18,56,54,10,16]"
   ]
  },
  {
   "cell_type": "code",
   "execution_count": 25,
   "id": "acf9d320-f5be-495a-a876-687084715a3d",
   "metadata": {},
   "outputs": [],
   "source": [
    "nums.reverse()"
   ]
  },
  {
   "cell_type": "code",
   "execution_count": 27,
   "id": "c39d985c-28a5-4733-a4aa-ba5f0ec7b017",
   "metadata": {},
   "outputs": [
    {
     "data": {
      "text/plain": [
       "[16, 10, 54, 56, 18, 7, 98, 76, 45, 12]"
      ]
     },
     "execution_count": 27,
     "metadata": {},
     "output_type": "execute_result"
    }
   ],
   "source": [
    "nums"
   ]
  },
  {
   "cell_type": "code",
   "execution_count": 29,
   "id": "003f31bf-2f1d-49dd-867d-269409fc5d5e",
   "metadata": {},
   "outputs": [
    {
     "name": "stdout",
     "output_type": "stream",
     "text": [
      "[7, 10, 12, 16, 18, 45, 54, 56, 76, 98]\n"
     ]
    }
   ],
   "source": [
    "nums.sort()\n",
    "print(nums)"
   ]
  },
  {
   "cell_type": "code",
   "execution_count": 37,
   "id": "419290d1-3b14-45e1-a2f4-2c0f4b0b7a83",
   "metadata": {},
   "outputs": [
    {
     "data": {
      "text/plain": [
       "10"
      ]
     },
     "execution_count": 37,
     "metadata": {},
     "output_type": "execute_result"
    }
   ],
   "source": [
    "len(nums)"
   ]
  },
  {
   "cell_type": "code",
   "execution_count": 39,
   "id": "c7055e9f-3f14-4060-9d06-e80113ef4f9c",
   "metadata": {},
   "outputs": [
    {
     "name": "stdout",
     "output_type": "stream",
     "text": [
      "<class 'list'>\n"
     ]
    }
   ],
   "source": [
    "print(type(nums))"
   ]
  },
  {
   "cell_type": "code",
   "execution_count": 41,
   "id": "4aa7739f-8aac-4643-b112-1d8c5fbb9d7e",
   "metadata": {},
   "outputs": [
    {
     "data": {
      "text/plain": [
       "4"
      ]
     },
     "execution_count": 41,
     "metadata": {},
     "output_type": "execute_result"
    }
   ],
   "source": [
    "nums.index(18)"
   ]
  },
  {
   "cell_type": "code",
   "execution_count": 43,
   "id": "573b47aa-1fc9-483a-9426-8b80b11f5b6e",
   "metadata": {},
   "outputs": [],
   "source": [
    "del nums[nums.index(10)]"
   ]
  },
  {
   "cell_type": "code",
   "execution_count": 46,
   "id": "611be67e-c345-4886-a4ec-69bfe673aa49",
   "metadata": {},
   "outputs": [
    {
     "data": {
      "text/plain": [
       "[7, 12, 16, 18, 45, 54, 56, 76, 98]"
      ]
     },
     "execution_count": 46,
     "metadata": {},
     "output_type": "execute_result"
    }
   ],
   "source": [
    "nums"
   ]
  },
  {
   "cell_type": "code",
   "execution_count": 48,
   "id": "945058c7-2eb5-4f5a-aa49-6b2823939279",
   "metadata": {},
   "outputs": [
    {
     "data": {
      "text/plain": [
       "1"
      ]
     },
     "execution_count": 48,
     "metadata": {},
     "output_type": "execute_result"
    }
   ],
   "source": [
    "nums.count(12)"
   ]
  },
  {
   "cell_type": "markdown",
   "id": "c7f0fffa-6e57-411e-97a0-f49a78ec04a2",
   "metadata": {},
   "source": [
    "## Dictionary\n",
    "### {}\n",
    "### {key : value}\n",
    "### index nahi hotey\n",
    "### mutable"
   ]
  },
  {
   "cell_type": "code",
   "execution_count": 58,
   "id": "1e31d209-407c-4257-8cf3-33168ef629be",
   "metadata": {},
   "outputs": [
    {
     "name": "stdout",
     "output_type": "stream",
     "text": [
      "{'name': 'Ibrahim', 'age': 20, 'gender': 'male', 'city': 'london'}\n"
     ]
    }
   ],
   "source": [
    "record = {'name' : 'Ibrahim', 'age' : 20, 'gender' : 'male', 'city': 'london'}\n",
    "print(record)"
   ]
  },
  {
   "cell_type": "code",
   "execution_count": 60,
   "id": "91712a71-244d-4bbb-9cc0-19ce35708a62",
   "metadata": {},
   "outputs": [],
   "source": [
    "# Adding key value in dictionary\n",
    "record['father name'] = 'Shakeel'\n",
    "record['id'] = 'CSC-23F-054'"
   ]
  },
  {
   "cell_type": "code",
   "execution_count": 62,
   "id": "3fe74a65-f6ea-43a9-abcb-88456ce2a5e7",
   "metadata": {},
   "outputs": [
    {
     "name": "stdout",
     "output_type": "stream",
     "text": [
      "{'name': 'Ibrahim', 'age': 20, 'gender': 'male', 'city': 'london', 'father name': 'Shakeel', 'id': 'CSC-23F-054'}\n"
     ]
    }
   ],
   "source": [
    "print(record)"
   ]
  },
  {
   "cell_type": "code",
   "execution_count": 64,
   "id": "0c592573-c2be-4ca0-8776-9169f4d5ab1b",
   "metadata": {},
   "outputs": [
    {
     "data": {
      "text/plain": [
       "{'name': 'Ibrahim',\n",
       " 'age': 20,\n",
       " 'gender': 'male',\n",
       " 'city': 'london',\n",
       " 'father name': 'Shakeel',\n",
       " 'id': 'CSC-23F-054'}"
      ]
     },
     "execution_count": 64,
     "metadata": {},
     "output_type": "execute_result"
    }
   ],
   "source": [
    "record"
   ]
  },
  {
   "cell_type": "markdown",
   "id": "92bc9264-902b-4985-b5f0-7d5282174bf1",
   "metadata": {},
   "source": [
    "#### if a key already exist, it will update the value when we apply a execution"
   ]
  },
  {
   "cell_type": "code",
   "execution_count": 67,
   "id": "c19b5d26-2f57-4991-bcd7-ae0b02fbcbd1",
   "metadata": {},
   "outputs": [],
   "source": [
    "record['city']= 'Karachi'"
   ]
  },
  {
   "cell_type": "code",
   "execution_count": 69,
   "id": "1f7bb1a7-9064-42d4-b4b2-0cf6379c0db2",
   "metadata": {},
   "outputs": [
    {
     "data": {
      "text/plain": [
       "{'name': 'Ibrahim',\n",
       " 'age': 20,\n",
       " 'gender': 'male',\n",
       " 'city': 'Karachi',\n",
       " 'father name': 'Shakeel',\n",
       " 'id': 'CSC-23F-054'}"
      ]
     },
     "execution_count": 69,
     "metadata": {},
     "output_type": "execute_result"
    }
   ],
   "source": [
    "record"
   ]
  },
  {
   "cell_type": "markdown",
   "id": "1dcaeeb1-34a3-4b45-ac30-8cacb229fae5",
   "metadata": {},
   "source": [
    "#### Accessing a member"
   ]
  },
  {
   "cell_type": "code",
   "execution_count": 72,
   "id": "dab43a2f-9392-4b3f-b2ea-7eb4eb18ba5a",
   "metadata": {},
   "outputs": [
    {
     "data": {
      "text/plain": [
       "20"
      ]
     },
     "execution_count": 72,
     "metadata": {},
     "output_type": "execute_result"
    }
   ],
   "source": [
    "record['age']"
   ]
  },
  {
   "cell_type": "code",
   "execution_count": 79,
   "id": "004a9688-9eac-48d7-ad5b-2a30a1544c6c",
   "metadata": {},
   "outputs": [
    {
     "data": {
      "text/plain": [
       "{'name': 'Ibrahim',\n",
       " 'gender': 'male',\n",
       " 'city': 'Karachi',\n",
       " 'father name': 'Shakeel',\n",
       " 'id': 'CSC-23F-054'}"
      ]
     },
     "execution_count": 79,
     "metadata": {},
     "output_type": "execute_result"
    }
   ],
   "source": [
    "record"
   ]
  },
  {
   "cell_type": "code",
   "execution_count": 76,
   "id": "0ecaccdc-06d4-4631-827b-e9c0f1ad85ed",
   "metadata": {},
   "outputs": [
    {
     "data": {
      "text/plain": [
       "{'name': 'Ibrahim',\n",
       " 'gender': 'male',\n",
       " 'city': 'Karachi',\n",
       " 'father name': 'Shakeel',\n",
       " 'id': 'CSC-23F-054'}"
      ]
     },
     "execution_count": 76,
     "metadata": {},
     "output_type": "execute_result"
    }
   ],
   "source": [
    "record"
   ]
  },
  {
   "cell_type": "code",
   "execution_count": 81,
   "id": "5082f901-9662-4d9b-8401-920c22559e2d",
   "metadata": {},
   "outputs": [],
   "source": [
    "record['age']= 20"
   ]
  },
  {
   "cell_type": "code",
   "execution_count": 83,
   "id": "1b08d14b-7e9e-40fd-87b7-8543e1cba20c",
   "metadata": {},
   "outputs": [
    {
     "data": {
      "text/plain": [
       "{'name': 'Ibrahim',\n",
       " 'gender': 'male',\n",
       " 'city': 'Karachi',\n",
       " 'father name': 'Shakeel',\n",
       " 'id': 'CSC-23F-054',\n",
       " 'age': 20}"
      ]
     },
     "execution_count": 83,
     "metadata": {},
     "output_type": "execute_result"
    }
   ],
   "source": [
    "record"
   ]
  },
  {
   "cell_type": "code",
   "execution_count": 85,
   "id": "8fea2652-6bf0-420a-877f-84c0346a804c",
   "metadata": {},
   "outputs": [
    {
     "data": {
      "text/plain": [
       "dict_keys(['name', 'gender', 'city', 'father name', 'id', 'age'])"
      ]
     },
     "execution_count": 85,
     "metadata": {},
     "output_type": "execute_result"
    }
   ],
   "source": [
    "record.keys()"
   ]
  },
  {
   "cell_type": "code",
   "execution_count": 87,
   "id": "cd6d3dc0-72e5-4240-9ef5-8bf1b60d9d94",
   "metadata": {},
   "outputs": [
    {
     "data": {
      "text/plain": [
       "dict_values(['Ibrahim', 'male', 'Karachi', 'Shakeel', 'CSC-23F-054', 20])"
      ]
     },
     "execution_count": 87,
     "metadata": {},
     "output_type": "execute_result"
    }
   ],
   "source": [
    "record.values()"
   ]
  },
  {
   "cell_type": "code",
   "execution_count": 89,
   "id": "628f5e3a-91ca-4142-b3ad-36b1a56dfcff",
   "metadata": {},
   "outputs": [
    {
     "data": {
      "text/plain": [
       "dict_items([('name', 'Ibrahim'), ('gender', 'male'), ('city', 'Karachi'), ('father name', 'Shakeel'), ('id', 'CSC-23F-054'), ('age', 20)])"
      ]
     },
     "execution_count": 89,
     "metadata": {},
     "output_type": "execute_result"
    }
   ],
   "source": [
    "record.items()"
   ]
  },
  {
   "cell_type": "code",
   "execution_count": 93,
   "id": "1b65796a-efae-44b4-bb05-095616b8a45a",
   "metadata": {},
   "outputs": [
    {
     "data": {
      "text/plain": [
       "'Ibrahim'"
      ]
     },
     "execution_count": 93,
     "metadata": {},
     "output_type": "execute_result"
    }
   ],
   "source": [
    "record.get('name')"
   ]
  },
  {
   "cell_type": "code",
   "execution_count": 95,
   "id": "00ed4951-8d94-4068-be2f-ca86a0b591e4",
   "metadata": {},
   "outputs": [
    {
     "ename": "KeyError",
     "evalue": "'height'",
     "output_type": "error",
     "traceback": [
      "\u001b[1;31m---------------------------------------------------------------------------\u001b[0m",
      "\u001b[1;31mKeyError\u001b[0m                                  Traceback (most recent call last)",
      "Cell \u001b[1;32mIn[95], line 1\u001b[0m\n\u001b[1;32m----> 1\u001b[0m record[\u001b[38;5;124m'\u001b[39m\u001b[38;5;124mheight\u001b[39m\u001b[38;5;124m'\u001b[39m]\n",
      "\u001b[1;31mKeyError\u001b[0m: 'height'"
     ]
    }
   ],
   "source": [
    "record['height']"
   ]
  },
  {
   "cell_type": "code",
   "execution_count": 99,
   "id": "3ef84bc4-645c-4a3e-885a-87a8e6bfa840",
   "metadata": {},
   "outputs": [
    {
     "data": {
      "text/plain": [
       "'yeh key nahi hai'"
      ]
     },
     "execution_count": 99,
     "metadata": {},
     "output_type": "execute_result"
    }
   ],
   "source": [
    " #            (key   ,  assign default value to return in case of no key found)\n",
    "record.get('height' , 'yeh key nahi hai')"
   ]
  },
  {
   "cell_type": "code",
   "execution_count": 121,
   "id": "c100a293-531f-4e10-8c5e-7ff88a1e1837",
   "metadata": {},
   "outputs": [],
   "source": [
    "more_data = {'blood gp' : 'O+', 'height' : '5.7'}"
   ]
  },
  {
   "cell_type": "code",
   "execution_count": 123,
   "id": "c01e33e8-3db2-4e2e-8ef7-6a3324dc50fe",
   "metadata": {},
   "outputs": [],
   "source": [
    "record['more_data'] = more_data"
   ]
  },
  {
   "cell_type": "raw",
   "id": "30accc80-3133-4b36-b1a1-d44a4ce44920",
   "metadata": {},
   "source": [
    "record"
   ]
  },
  {
   "cell_type": "code",
   "execution_count": 125,
   "id": "4434f1f9-bb83-4a40-af58-46b144587e35",
   "metadata": {},
   "outputs": [
    {
     "name": "stdout",
     "output_type": "stream",
     "text": [
      "{'name': 'Ibrahim', 'gender': 'male', 'city': 'Karachi', 'father name': 'Shakeel', 'id': 'CSC-23F-054', 'age': 20, 'blood gp': 'O+', 'height': '57', 'more_data': {'blood gp': 'O+', 'height': '5.7'}}\n"
     ]
    }
   ],
   "source": [
    "print(record)"
   ]
  },
  {
   "cell_type": "code",
   "execution_count": 127,
   "id": "40b1f52d-bfb4-4f51-99b9-6bb5751a502f",
   "metadata": {},
   "outputs": [
    {
     "data": {
      "text/plain": [
       "{'name': 'Ibrahim',\n",
       " 'gender': 'male',\n",
       " 'city': 'Karachi',\n",
       " 'father name': 'Shakeel',\n",
       " 'id': 'CSC-23F-054',\n",
       " 'age': 20,\n",
       " 'blood gp': 'O+',\n",
       " 'height': '57',\n",
       " 'more_data': {'blood gp': 'O+', 'height': '5.7'}}"
      ]
     },
     "execution_count": 127,
     "metadata": {},
     "output_type": "execute_result"
    }
   ],
   "source": [
    "record"
   ]
  },
  {
   "cell_type": "code",
   "execution_count": 129,
   "id": "4f6e576d-6d8f-429c-8f8d-08d75699340f",
   "metadata": {},
   "outputs": [],
   "source": [
    "del record['more_data']"
   ]
  },
  {
   "cell_type": "code",
   "execution_count": 131,
   "id": "f7f028d3-5f49-493d-a212-581d7df58ad6",
   "metadata": {},
   "outputs": [],
   "source": [
    "record.update(more_data)"
   ]
  },
  {
   "cell_type": "code",
   "execution_count": 133,
   "id": "33a8256a-09bf-448f-87a8-6dc9da06a65a",
   "metadata": {
    "scrolled": true
   },
   "outputs": [
    {
     "data": {
      "text/plain": [
       "{'name': 'Ibrahim',\n",
       " 'gender': 'male',\n",
       " 'city': 'Karachi',\n",
       " 'father name': 'Shakeel',\n",
       " 'id': 'CSC-23F-054',\n",
       " 'age': 20,\n",
       " 'blood gp': 'O+',\n",
       " 'height': '5.7'}"
      ]
     },
     "execution_count": 133,
     "metadata": {},
     "output_type": "execute_result"
    }
   ],
   "source": [
    "record"
   ]
  },
  {
   "cell_type": "markdown",
   "id": "baba4a9a-4044-4fe0-a4ed-773f3c7257e3",
   "metadata": {},
   "source": [
    "# LIST in Dictionary"
   ]
  },
  {
   "cell_type": "code",
   "execution_count": 8,
   "id": "65fe1610-7e17-4c10-b5ca-d4f19331e365",
   "metadata": {},
   "outputs": [],
   "source": [
    "student = {'name': ['asad', 'ibrahim', 'dhoni', 'shakeel', 'monica', 'hailee', 'salman', 'mirza', 'mcavoy'], \n",
    "           'roll no' : [1,2,3,4,5,6,7,8,9],\n",
    "           'courses': ['wd', 'ds', 'is','wd', 'ds', 'is','wd', 'ds', 'is'],\n",
    "           'marks': ['46', '44', '39','46', '44', '39','46', '44', '39']}"
   ]
  },
  {
   "cell_type": "code",
   "execution_count": 14,
   "id": "6c031fe5-3fdb-4e29-8587-1193089384ba",
   "metadata": {},
   "outputs": [
    {
     "data": {
      "text/plain": [
       "[1, 2, 3, 4, 5, 6, 7, 8, 9]"
      ]
     },
     "execution_count": 14,
     "metadata": {},
     "output_type": "execute_result"
    }
   ],
   "source": [
    "student['roll no']"
   ]
  },
  {
   "cell_type": "code",
   "execution_count": 16,
   "id": "86ddc1af-ed97-4541-ade7-ff45c7723bb6",
   "metadata": {},
   "outputs": [
    {
     "data": {
      "text/plain": [
       "['asad',\n",
       " 'ibrahim',\n",
       " 'dhoni',\n",
       " 'shakeel',\n",
       " 'monica',\n",
       " 'hailee',\n",
       " 'salman',\n",
       " 'mirza',\n",
       " 'mcavoy']"
      ]
     },
     "execution_count": 16,
     "metadata": {},
     "output_type": "execute_result"
    }
   ],
   "source": [
    "student['name']"
   ]
  },
  {
   "cell_type": "code",
   "execution_count": null,
   "id": "0c362733-4395-490b-b321-afa865a0b094",
   "metadata": {},
   "outputs": [],
   "source": []
  },
  {
   "cell_type": "markdown",
   "id": "248e484a-807e-4394-9dc1-ac6f44bd1f90",
   "metadata": {},
   "source": [
    "# tuple\n",
    "#### - ()\n",
    "#### - immutable"
   ]
  },
  {
   "cell_type": "code",
   "execution_count": 20,
   "id": "d81891a4-d02b-491c-a10e-672657c305f8",
   "metadata": {},
   "outputs": [
    {
     "name": "stdout",
     "output_type": "stream",
     "text": [
      "<class 'tuple'>\n"
     ]
    }
   ],
   "source": [
    "atuple = (1,3,4,6,78,8)\n",
    "print(type(atuple))\n"
   ]
  },
  {
   "cell_type": "code",
   "execution_count": null,
   "id": "2555f387-3e4a-4848-aed7-a2779030d0f7",
   "metadata": {},
   "outputs": [],
   "source": [
    "b = (3)\n",
    "print(type(b))"
   ]
  },
  {
   "cell_type": "code",
   "execution_count": 26,
   "id": "225bcfcb-bb56-4deb-b85f-15da4e930a81",
   "metadata": {},
   "outputs": [
    {
     "name": "stdout",
     "output_type": "stream",
     "text": [
      "<class 'tuple'>\n"
     ]
    }
   ],
   "source": [
    "b = 3,\n",
    "print(type(b))"
   ]
  },
  {
   "cell_type": "markdown",
   "id": "dd430e77-d4d1-4a92-bf07-509fff81998a",
   "metadata": {},
   "source": [
    "# SET\n",
    "#### -collection of well defined and distinct (unique) object is called set\n",
    "#### {1,2,3,4,5}"
   ]
  },
  {
   "cell_type": "code",
   "execution_count": 30,
   "id": "faac2b9d-ee3e-45e9-9ed0-7177c1b06fd5",
   "metadata": {},
   "outputs": [],
   "source": [
    "nums = {1,12,2,33,4,5,6}"
   ]
  },
  {
   "cell_type": "code",
   "execution_count": 2,
   "id": "5678df44-ece3-48d2-ba4a-5e287c7566a6",
   "metadata": {},
   "outputs": [
    {
     "ename": "KeyError",
     "evalue": "slice('bar', 'baz', None)",
     "output_type": "error",
     "traceback": [
      "\u001b[1;31m---------------------------------------------------------------------------\u001b[0m",
      "\u001b[1;31mKeyError\u001b[0m                                  Traceback (most recent call last)",
      "Cell \u001b[1;32mIn[2], line 2\u001b[0m\n\u001b[0;32m      1\u001b[0m d \u001b[38;5;241m=\u001b[39m {\u001b[38;5;124m'\u001b[39m\u001b[38;5;124mfoo\u001b[39m\u001b[38;5;124m'\u001b[39m: \u001b[38;5;241m100\u001b[39m, \u001b[38;5;124m'\u001b[39m\u001b[38;5;124mbar\u001b[39m\u001b[38;5;124m'\u001b[39m: \u001b[38;5;241m200\u001b[39m, \u001b[38;5;124m'\u001b[39m\u001b[38;5;124mbaz\u001b[39m\u001b[38;5;124m'\u001b[39m: \u001b[38;5;241m300\u001b[39m}\n\u001b[1;32m----> 2\u001b[0m d[\u001b[38;5;124m'\u001b[39m\u001b[38;5;124mbar\u001b[39m\u001b[38;5;124m'\u001b[39m:\u001b[38;5;124m'\u001b[39m\u001b[38;5;124mbaz\u001b[39m\u001b[38;5;124m'\u001b[39m]\n",
      "\u001b[1;31mKeyError\u001b[0m: slice('bar', 'baz', None)"
     ]
    }
   ],
   "source": [
    "d = {'foo': 100, 'bar': 200, 'baz': 300}\n",
    "d['bar':'baz']"
   ]
  },
  {
   "cell_type": "code",
   "execution_count": 8,
   "id": "700d9d2f-59fb-49e6-b482-560439229d22",
   "metadata": {},
   "outputs": [
    {
     "data": {
      "text/plain": [
       "5"
      ]
     },
     "execution_count": 8,
     "metadata": {},
     "output_type": "execute_result"
    }
   ],
   "source": [
    "x = ['a','b',{'foo': 1,'bar':{'x' : 10, 'y' : 20, 'z' : 30}, 'baz': 3}, 'c','d']\n",
    "len(x)"
   ]
  },
  {
   "cell_type": "code",
   "execution_count": 18,
   "id": "d5da10f0-4b0a-4649-adbc-b4fbc9f1e6e7",
   "metadata": {},
   "outputs": [
    {
     "data": {
      "text/plain": [
       "30"
      ]
     },
     "execution_count": 18,
     "metadata": {},
     "output_type": "execute_result"
    }
   ],
   "source": [
    "x[2]['bar']['z']"
   ]
  },
  {
   "cell_type": "code",
   "execution_count": null,
   "id": "5f340862-e263-497f-ba66-85e6a2ee39a1",
   "metadata": {},
   "outputs": [],
   "source": []
  },
  {
   "cell_type": "code",
   "execution_count": null,
   "id": "205cd7ea-0e88-4b18-983c-76d43484f1c3",
   "metadata": {},
   "outputs": [],
   "source": []
  },
  {
   "cell_type": "code",
   "execution_count": null,
   "id": "4694d6f2-83a0-41e5-8bd7-62fc45635e7b",
   "metadata": {},
   "outputs": [],
   "source": []
  },
  {
   "cell_type": "code",
   "execution_count": null,
   "id": "d5756261-2497-45f2-951a-8e72a9cdeffb",
   "metadata": {},
   "outputs": [],
   "source": []
  },
  {
   "cell_type": "code",
   "execution_count": null,
   "id": "c432dc95-293d-4c71-b647-12a8a87b0c46",
   "metadata": {},
   "outputs": [],
   "source": []
  }
 ],
 "metadata": {
  "kernelspec": {
   "display_name": "Python [conda env:base] *",
   "language": "python",
   "name": "conda-base-py"
  },
  "language_info": {
   "codemirror_mode": {
    "name": "ipython",
    "version": 3
   },
   "file_extension": ".py",
   "mimetype": "text/x-python",
   "name": "python",
   "nbconvert_exporter": "python",
   "pygments_lexer": "ipython3",
   "version": "3.12.7"
  }
 },
 "nbformat": 4,
 "nbformat_minor": 5
}
