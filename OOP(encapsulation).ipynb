{
 "cells": [
  {
   "cell_type": "raw",
   "id": "37f540c7-df3f-4016-9990-9769d4589b9c",
   "metadata": {},
   "source": [
    "class Computer:\n",
    "    ram = '8gb'\n",
    "    model = 'hp'\n",
    "    storage = '1tb'\n",
    "    price = 60000\n",
    "    processor = 'intel corei9'\n",
    "    def coding():\n",
    "        print(\"coding.....\")\n",
    "    def designing():\n",
    "        print(\"designing.....\")\n",
    "    def browsing():\n",
    "        print(\"browsing.....\")"
   ]
  },
  {
   "cell_type": "code",
   "execution_count": 8,
   "id": "fbb8111b-bdcc-45f8-b1f5-da59458d93ad",
   "metadata": {},
   "outputs": [],
   "source": [
    "comp1 = Computer()\n",
    "comp2 = Computer()\n",
    "comp3 = Computer()"
   ]
  },
  {
   "cell_type": "code",
   "execution_count": 11,
   "id": "41cb3ec1-d165-4251-96e8-3ad3deeca9fa",
   "metadata": {
    "scrolled": true
   },
   "outputs": [
    {
     "data": {
      "text/plain": [
       "60000"
      ]
     },
     "execution_count": 11,
     "metadata": {},
     "output_type": "execute_result"
    }
   ],
   "source": [
    "comp1.price"
   ]
  },
  {
   "cell_type": "code",
   "execution_count": 13,
   "id": "04655103-5c69-4016-9781-4a17b86ec63a",
   "metadata": {},
   "outputs": [
    {
     "data": {
      "text/plain": [
       "60000"
      ]
     },
     "execution_count": 13,
     "metadata": {},
     "output_type": "execute_result"
    }
   ],
   "source": [
    "comp2.price\n"
   ]
  },
  {
   "cell_type": "code",
   "execution_count": 15,
   "id": "3666b605-32b8-4d78-810f-3df50f5ec9a3",
   "metadata": {},
   "outputs": [
    {
     "data": {
      "text/plain": [
       "'1tb'"
      ]
     },
     "execution_count": 15,
     "metadata": {},
     "output_type": "execute_result"
    }
   ],
   "source": [
    "comp3.storage"
   ]
  },
  {
   "cell_type": "code",
   "execution_count": 17,
   "id": "5a8d4f3b-768a-4625-8845-d35439b39da3",
   "metadata": {},
   "outputs": [],
   "source": [
    "comp1.price = 100000"
   ]
  },
  {
   "cell_type": "code",
   "execution_count": 19,
   "id": "a208db25-4a0a-4117-8187-0eaac3630e8f",
   "metadata": {},
   "outputs": [
    {
     "data": {
      "text/plain": [
       "100000"
      ]
     },
     "execution_count": 19,
     "metadata": {},
     "output_type": "execute_result"
    }
   ],
   "source": [
    "comp1.price"
   ]
  },
  {
   "cell_type": "markdown",
   "id": "4dd8c47c-7a1d-46d6-9f1d-543efb8a8ae5",
   "metadata": {},
   "source": [
    "# Pillars of OOP\n",
    " Encapsulation,\n",
    " Inheritance,\n",
    " Abstraction,\n",
    " Polymorphism\n",
    " \n"
   ]
  },
  {
   "cell_type": "markdown",
   "id": "b9ae4346-a89a-4b1f-a57b-3f0859167a3d",
   "metadata": {},
   "source": [
    "## Encapsulation\n"
   ]
  },
  {
   "cell_type": "code",
   "execution_count": 20,
   "id": "5d72019a-c65c-4922-8d70-47a7db895b89",
   "metadata": {},
   "outputs": [],
   "source": [
    "class Laptop:\n",
    "    def __init__(self, model, ram, storage, processor):\n",
    "        self._model = model\n",
    "        self._ram = ram\n",
    "        self._storage = storage\n",
    "        self._processor = processor\n",
    "\n",
    "    def get_model(self):\n",
    "        return self._model\n",
    "\n",
    "    def set_model(self, new_model):\n",
    "        self._model = new_model\n",
    "\n",
    "    def get_ram(self):\n",
    "        return self._ram\n",
    "\n",
    "    def set_ram(self, new_ram):\n",
    "        if new_ram > 16:\n",
    "            print(f\"{new_ram} GB is not supported\")\n",
    "        else:\n",
    "            self._ram = new_ram\n",
    "\n",
    "    def get_processor(self):\n",
    "        return self._processor\n",
    "\n",
    "    def set_processor(self, new_processor):\n",
    "        self._processor = new_processor\n",
    "\n",
    "    def get_storage(self):\n",
    "        return self._storage\n",
    "\n",
    "    def set_storage(self, new_storage):\n",
    "        self._storage = new_storage\n"
   ]
  },
  {
   "cell_type": "code",
   "execution_count": 22,
   "id": "b6722147-6f5d-4b31-af78-f260937df897",
   "metadata": {},
   "outputs": [],
   "source": [
    "lap1 = Laptop('HP', 8, 'Corei5', '1tb')"
   ]
  },
  {
   "cell_type": "code",
   "execution_count": null,
   "id": "f387507c-05ed-4216-aa39-34f6dc2639ea",
   "metadata": {},
   "outputs": [],
   "source": []
  }
 ],
 "metadata": {
  "kernelspec": {
   "display_name": "Python [conda env:base] *",
   "language": "python",
   "name": "conda-base-py"
  },
  "language_info": {
   "codemirror_mode": {
    "name": "ipython",
    "version": 3
   },
   "file_extension": ".py",
   "mimetype": "text/x-python",
   "name": "python",
   "nbconvert_exporter": "python",
   "pygments_lexer": "ipython3",
   "version": "3.12.7"
  }
 },
 "nbformat": 4,
 "nbformat_minor": 5
}
