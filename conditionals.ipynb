{
 "cells": [
  {
   "cell_type": "markdown",
   "id": "74b85e23-249c-4c5e-983a-86bd19ac8dda",
   "metadata": {},
   "source": [
    "# Conditonals\n",
    " - if statement / if clause\n",
    " - if else\n",
    " - elif\n",
    " - nested if statements"
   ]
  },
  {
   "cell_type": "code",
   "execution_count": 61,
   "id": "cc7f3fe4-7c5a-45f1-92f7-a8c1c161d779",
   "metadata": {},
   "outputs": [
    {
     "name": "stdin",
     "output_type": "stream",
     "text": [
      "Enter Age: 20\n"
     ]
    },
    {
     "name": "stdout",
     "output_type": "stream",
     "text": [
      "you're an adult\n"
     ]
    }
   ],
   "source": [
    "age = int(input(\"Enter Age:\"))\n",
    "if age < 18:\n",
    "    print(\"you're a kid\")\n",
    "else:\n",
    "    print(\"you're an adult\")"
   ]
  },
  {
   "cell_type": "code",
   "execution_count": 9,
   "id": "32d6341b-8ea4-4df1-aa3e-f0c40197560d",
   "metadata": {},
   "outputs": [],
   "source": [
    "# enter bill amount if amount is 50000 so 10% discount is applied other wise no discount"
   ]
  },
  {
   "cell_type": "code",
   "execution_count": 63,
   "id": "678597a9-9010-457d-9c69-0bef06bcba46",
   "metadata": {},
   "outputs": [
    {
     "name": "stdin",
     "output_type": "stream",
     "text": [
      "Enter your bill amount: 60000\n"
     ]
    },
    {
     "name": "stdout",
     "output_type": "stream",
     "text": [
      "you avail 10% discount\n"
     ]
    }
   ],
   "source": [
    "bill_amount = int(input(\"Enter your bill amount:\"))\n",
    "if bill_amount >= 50000:\n",
    "    print(\"you avail 10% discount\")\n",
    "else:\n",
    "    print(\"no discount\")"
   ]
  },
  {
   "cell_type": "code",
   "execution_count": 17,
   "id": "7d108da8-3169-4d08-b373-e7cd585a7a5d",
   "metadata": {
    "scrolled": true
   },
   "outputs": [
    {
     "name": "stdin",
     "output_type": "stream",
     "text": [
      " scdjvfd\n"
     ]
    },
    {
     "data": {
      "text/plain": [
       "'scdjvfd'"
      ]
     },
     "execution_count": 17,
     "metadata": {},
     "output_type": "execute_result"
    }
   ],
   "source": [
    "input()"
   ]
  },
  {
   "cell_type": "code",
   "execution_count": 19,
   "id": "627c7ee4-d9aa-4a0d-b740-225047252610",
   "metadata": {},
   "outputs": [],
   "source": [
    "# application of 10% discount\n"
   ]
  },
  {
   "cell_type": "code",
   "execution_count": 29,
   "id": "49a36c2b-b594-4007-ab4c-259ece9f1cdf",
   "metadata": {},
   "outputs": [
    {
     "name": "stdin",
     "output_type": "stream",
     "text": [
      "Enter your bill amount: 60000\n"
     ]
    },
    {
     "name": "stdout",
     "output_type": "stream",
     "text": [
      "your bill amount is 6000.0 after entering your 60000\n"
     ]
    }
   ],
   "source": [
    "bill_amount = int(input(\"Enter your bill amount:\"))\n",
    "if bill_amount > 50000:\n",
    "    discount = bill_amount*.10\n",
    "    print(f\"your bill amount is {discount} after entering your {bill_amount}\")\n",
    "else:\n",
    "     print(f\"sorry you didn't avail discount {bill_amount} \")"
   ]
  },
  {
   "cell_type": "code",
   "execution_count": 31,
   "id": "910716ff-1986-492f-846d-5e3698738535",
   "metadata": {},
   "outputs": [],
   "source": [
    "# tax application on salary per annum 5% tax"
   ]
  },
  {
   "cell_type": "code",
   "execution_count": 39,
   "id": "6ed91805-32d3-459f-ba6f-30278707b3a7",
   "metadata": {},
   "outputs": [
    {
     "name": "stdin",
     "output_type": "stream",
     "text": [
      "Enter Your Salary Per Annum: 600000\n"
     ]
    },
    {
     "name": "stdout",
     "output_type": "stream",
     "text": [
      "your salary per annum is 600000\n",
      "tax apply on your salary is 30000.0\n",
      "your net salary is 570000.0\n"
     ]
    }
   ],
   "source": [
    "taxable_salary = 500000\n",
    "spa = int(input(\"Enter Your Salary Per Annum:\"))\n",
    "if spa > taxable_salary:\n",
    "    tax_amt = spa*0.05\n",
    "    net_salary = spa - tax_amt\n",
    "    print(f\"your salary per annum is {spa}\")\n",
    "    print(f\"tax apply on your salary is {tax_amt}\")\n",
    "    print(f\"your net salary is {net_salary}\")\n",
    "else:\n",
    "    print(\"you are not eligible for tax\")\n",
    "    "
   ]
  },
  {
   "cell_type": "code",
   "execution_count": 59,
   "id": "f9f4bb7d-e976-4325-bbd5-1f2d501459ab",
   "metadata": {},
   "outputs": [
    {
     "name": "stdin",
     "output_type": "stream",
     "text": [
      "Enter your Salary: 2400000\n"
     ]
    },
    {
     "name": "stdout",
     "output_type": "stream",
     "text": [
      "your salary is 2400000\n",
      "application of tax on your salary is 480000.0\n",
      "your net salary is 1920000.0\n"
     ]
    }
   ],
   "source": [
    "salary = int(input(\"Enter your Salary:\"))\n",
    "if salary >= 2400000:\n",
    "    tax_amount = salary*.20\n",
    "elif salary >= 1200000:\n",
    "    tax_amount = salary*.15\n",
    "elif salary >= 900000:\n",
    "    tax_amount = salary*.10\n",
    "elif salary >= 600000:\n",
    "    tax_amount = salary*.5\n",
    "else:\n",
    "    tax_amount = salary*0\n",
    "\n",
    "print(f\"your salary is {salary}\")\n",
    "print(f\"application of tax on your salary is {tax_amount}\")\n",
    "print(f\"your net salary is {salary - tax_amount}\")\n",
    "\n",
    "\n",
    "    \n",
    "    "
   ]
  },
  {
   "cell_type": "code",
   "execution_count": null,
   "id": "0fd664ae-f115-4516-8aad-0f4fe62b604e",
   "metadata": {},
   "outputs": [],
   "source": [
    "# voting eligibilty"
   ]
  },
  {
   "cell_type": "code",
   "execution_count": 13,
   "id": "a57a4449-4c2d-4f22-9c23-561e04f88dfb",
   "metadata": {},
   "outputs": [
    {
     "name": "stdin",
     "output_type": "stream",
     "text": [
      "Enter Your Age: -1\n"
     ]
    },
    {
     "name": "stdout",
     "output_type": "stream",
     "text": [
      "You're not Eligible for VOTE\n"
     ]
    }
   ],
   "source": [
    "age = int(input(\"Enter Your Age:\"))\n",
    "if age >= 18:\n",
    "    print(\"You're Eligible for VOTE\")\n",
    "else:\n",
    "    print(\"You're not Eligible for VOTE\")\n",
    "    "
   ]
  },
  {
   "cell_type": "code",
   "execution_count": null,
   "id": "7db8c70c-5012-43e5-ace5-863dfc53ed27",
   "metadata": {},
   "outputs": [],
   "source": []
  }
 ],
 "metadata": {
  "kernelspec": {
   "display_name": "Python [conda env:base] *",
   "language": "python",
   "name": "conda-base-py"
  },
  "language_info": {
   "codemirror_mode": {
    "name": "ipython",
    "version": 3
   },
   "file_extension": ".py",
   "mimetype": "text/x-python",
   "name": "python",
   "nbconvert_exporter": "python",
   "pygments_lexer": "ipython3",
   "version": "3.12.7"
  }
 },
 "nbformat": 4,
 "nbformat_minor": 5
}
